{
  "nbformat": 4,
  "nbformat_minor": 0,
  "metadata": {
    "colab": {
      "name": "Breast cancer classification from images.ipynb",
      "provenance": [],
      "collapsed_sections": []
    },
    "kernelspec": {
      "name": "python3",
      "display_name": "Python 3"
    },
    "language_info": {
      "name": "python"
    }
  },
  "cells": [
    {
      "cell_type": "code",
      "execution_count": null,
      "metadata": {
        "id": "_1Igrq-q8ZSI"
      },
      "outputs": [],
      "source": [
        "import pandas as pd\n",
        "import numpy as np\n",
        "import cv2\n",
        "from PIL import Image, ImageFilter \n",
        "from numpy import asarray"
      ]
    },
    {
      "cell_type": "code",
      "source": [
        "from sklearn.svm import SVC\n",
        "import matplotlib.pyplot as plt\n",
        "import time as t\n",
        "from sklearn.neural_network import MLPClassifier\n",
        "from sklearn.linear_model import LogisticRegression\n",
        "from sklearn.tree import DecisionTreeClassifier\n",
        "import sklearn.metrics as mt\n",
        "import datetime as d\n",
        "from skimage.io import imread, imshow\n",
        "from skimage.measure import label, regionprops, regionprops_table\n",
        "from sklearn import preprocessing\n",
        "from sklearn.metrics import confusion_matrix"
      ],
      "metadata": {
        "id": "OTRm8rEtFDPT"
      },
      "execution_count": null,
      "outputs": []
    },
    {
      "cell_type": "code",
      "source": [
        "from google.colab import drive\n",
        "drive.mount('/content/gdrive')"
      ],
      "metadata": {
        "id": "f5PualJ38ihM",
        "colab": {
          "base_uri": "https://localhost:8080/"
        },
        "outputId": "705a0cbc-7834-46b6-de13-04d683d6cec6"
      },
      "execution_count": null,
      "outputs": [
        {
          "output_type": "stream",
          "name": "stdout",
          "text": [
            "Drive already mounted at /content/gdrive; to attempt to forcibly remount, call drive.mount(\"/content/gdrive\", force_remount=True).\n"
          ]
        }
      ]
    },
    {
      "cell_type": "code",
      "source": [
        "p = {\n",
        "        \"area_sum\":[],\"convex_area_sum\":[],\"bbox_area_sum\":[],\n",
        "      \"extent_sum\":[],\"solidity_sum\":[],\"eccentricity_sum\":[],\n",
        "      \"orientation_sum\":[]\n",
        "     }"
      ],
      "metadata": {
        "id": "pKjLBQ4nd0Sl"
      },
      "execution_count": null,
      "outputs": []
    },
    {
      "cell_type": "code",
      "source": [
        "p1 = {\n",
        "      \"area_sum\":[],\"convex_area_sum\":[],\"bbox_area_sum\":[],\n",
        "      \"extent_sum\":[],\"solidity_sum\":[],\"eccentricity_sum\":[],\n",
        "      \"orientation_sum\":[]\n",
        "     }"
      ],
      "metadata": {
        "id": "TbV7mGuqqw4k"
      },
      "execution_count": null,
      "outputs": []
    },
    {
      "cell_type": "code",
      "source": [
        "p2 = {\n",
        "            \"area_sum\":[],\"convex_area_sum\":[],\"bbox_area_sum\":[],\n",
        "      \"extent_sum\":[],\"solidity_sum\":[],\"eccentricity_sum\":[],\n",
        "      \"orientation_sum\":[]\n",
        "     }"
      ],
      "metadata": {
        "id": "pIs_-W12IBMG"
      },
      "execution_count": null,
      "outputs": []
    },
    {
      "cell_type": "code",
      "source": [
        "p3 = {\n",
        "            \"area_sum\":[],\"convex_area_sum\":[],\"bbox_area_sum\":[],\n",
        "      \"extent_sum\":[],\"solidity_sum\":[],\"eccentricity_sum\":[],\n",
        "      \"orientation_sum\":[]\n",
        "     }"
      ],
      "metadata": {
        "id": "lpBqfdzSIBCH"
      },
      "execution_count": null,
      "outputs": []
    },
    {
      "cell_type": "code",
      "source": [
        "import cv2\n",
        "import os\n",
        "from google.colab.patches import cv2_imshow\n",
        "from PIL import Image, ImageFilter \n",
        "def load_images_from_folder(folder):\n",
        "    images = []\n",
        "    i=0\n",
        "    for filename in os.listdir(folder):\n",
        "        img = cv2.imread(os.path.join(folder,filename))\n",
        "        if img is not None:\n",
        "            images.append(img)\n",
        "        gray_painting = cv2.cvtColor(img, cv2.COLOR_BGR2GRAY)\n",
        "        (thresh, blackAndWhiteImage) = cv2.threshold(gray_painting, 127, 255, cv2.THRESH_BINARY_INV) \n",
        "        cv2.imwrite('/content/gdrive/MyDrive/numpy_binarization1.png', blackAndWhiteImage)\n",
        "        binarized=imread('/content/gdrive/MyDrive/numpy_binarization1.png')\n",
        "        im1 = Image.open(r'/content/gdrive/MyDrive/numpy_binarization1.png') \n",
        "        im2 = im1.filter(ImageFilter.MedianFilter(size = 3)) \n",
        "        numpydata = asarray(im2)\n",
        "        label_im = label(numpydata)\n",
        "        regions = regionprops(label_im)\n",
        "        properties = [\"area\",\"convex_area\",\"bbox_area\", \"extent\", \"solidity\", \"eccentricity\", \"orientation\"]\n",
        "        df=pd.DataFrame(regionprops_table(label_im, properties=properties))\n",
        "        df=df[df['area']>1000]\n",
        "        df=df[df['area']<8000]\n",
        "        p['area_sum'].append(df['area'].sum())\n",
        "        p['convex_area_sum'].append(df['convex_area'].sum())\n",
        "        p['bbox_area_sum'].append(df['bbox_area'].sum())\n",
        "        p['extent_sum'].append(df['extent'].sum())\n",
        "        p['solidity_sum'].append(df['solidity'].sum())\n",
        "        p['eccentricity_sum'].append(df['eccentricity'].sum())\n",
        "        p['orientation_sum'].append(df['orientation'].sum())\n",
        "        \n",
        "\n",
        "\n"
      ],
      "metadata": {
        "id": "_atZZPJDy7OT"
      },
      "execution_count": null,
      "outputs": []
    },
    {
      "cell_type": "code",
      "source": [
        "load_images_from_folder('/content/gdrive/MyDrive/Breast Cancer DataSet/Train/Benign')\n",
        "df1=pd.DataFrame(p)\n",
        "df1['label']='Benign'"
      ],
      "metadata": {
        "id": "uGgwvaHPidAl"
      },
      "execution_count": null,
      "outputs": []
    },
    {
      "cell_type": "code",
      "source": [
        "df1"
      ],
      "metadata": {
        "id": "yw7f2ml3MTYr",
        "colab": {
          "base_uri": "https://localhost:8080/",
          "height": 424
        },
        "outputId": "ba5bec85-23e4-460c-f0de-5da6340d7de6"
      },
      "execution_count": null,
      "outputs": [
        {
          "output_type": "execute_result",
          "data": {
            "text/plain": [
              "     area_sum  convex_area_sum  bbox_area_sum  extent_sum  solidity_sum  \\\n",
              "0        8056            12913          24490    2.351315      3.967752   \n",
              "1           0                0              0    0.000000      0.000000   \n",
              "2       42326            72657         116733    6.518986     10.060141   \n",
              "3           0                0              0    0.000000      0.000000   \n",
              "4        1181             1906           2950    0.400339      0.619622   \n",
              "..        ...              ...            ...         ...           ...   \n",
              "383     39029            69572         130249    4.250864      7.116404   \n",
              "384     10687            13563          19755    1.483113      2.290833   \n",
              "385      7585            11723          19491    1.598245      2.679035   \n",
              "386      1245             1413           2156    0.577458      0.881104   \n",
              "387     13974            25976          43464    2.932710      4.262175   \n",
              "\n",
              "     eccentricity_sum  orientation_sum   label  \n",
              "0            5.168015        -2.957377  Benign  \n",
              "1            0.000000         0.000000  Benign  \n",
              "2           14.293964        -1.312254  Benign  \n",
              "3            0.000000         0.000000  Benign  \n",
              "4            0.688243         0.398375  Benign  \n",
              "..                ...              ...     ...  \n",
              "383          9.366848        -5.904389  Benign  \n",
              "384          2.772270         0.445958  Benign  \n",
              "385          3.459306        -4.559435  Benign  \n",
              "386          0.740596         1.082744  Benign  \n",
              "387          5.113804         1.616369  Benign  \n",
              "\n",
              "[388 rows x 8 columns]"
            ],
            "text/html": [
              "\n",
              "  <div id=\"df-c2b5499a-6f99-486f-bdb4-ddc3223afb60\">\n",
              "    <div class=\"colab-df-container\">\n",
              "      <div>\n",
              "<style scoped>\n",
              "    .dataframe tbody tr th:only-of-type {\n",
              "        vertical-align: middle;\n",
              "    }\n",
              "\n",
              "    .dataframe tbody tr th {\n",
              "        vertical-align: top;\n",
              "    }\n",
              "\n",
              "    .dataframe thead th {\n",
              "        text-align: right;\n",
              "    }\n",
              "</style>\n",
              "<table border=\"1\" class=\"dataframe\">\n",
              "  <thead>\n",
              "    <tr style=\"text-align: right;\">\n",
              "      <th></th>\n",
              "      <th>area_sum</th>\n",
              "      <th>convex_area_sum</th>\n",
              "      <th>bbox_area_sum</th>\n",
              "      <th>extent_sum</th>\n",
              "      <th>solidity_sum</th>\n",
              "      <th>eccentricity_sum</th>\n",
              "      <th>orientation_sum</th>\n",
              "      <th>label</th>\n",
              "    </tr>\n",
              "  </thead>\n",
              "  <tbody>\n",
              "    <tr>\n",
              "      <th>0</th>\n",
              "      <td>8056</td>\n",
              "      <td>12913</td>\n",
              "      <td>24490</td>\n",
              "      <td>2.351315</td>\n",
              "      <td>3.967752</td>\n",
              "      <td>5.168015</td>\n",
              "      <td>-2.957377</td>\n",
              "      <td>Benign</td>\n",
              "    </tr>\n",
              "    <tr>\n",
              "      <th>1</th>\n",
              "      <td>0</td>\n",
              "      <td>0</td>\n",
              "      <td>0</td>\n",
              "      <td>0.000000</td>\n",
              "      <td>0.000000</td>\n",
              "      <td>0.000000</td>\n",
              "      <td>0.000000</td>\n",
              "      <td>Benign</td>\n",
              "    </tr>\n",
              "    <tr>\n",
              "      <th>2</th>\n",
              "      <td>42326</td>\n",
              "      <td>72657</td>\n",
              "      <td>116733</td>\n",
              "      <td>6.518986</td>\n",
              "      <td>10.060141</td>\n",
              "      <td>14.293964</td>\n",
              "      <td>-1.312254</td>\n",
              "      <td>Benign</td>\n",
              "    </tr>\n",
              "    <tr>\n",
              "      <th>3</th>\n",
              "      <td>0</td>\n",
              "      <td>0</td>\n",
              "      <td>0</td>\n",
              "      <td>0.000000</td>\n",
              "      <td>0.000000</td>\n",
              "      <td>0.000000</td>\n",
              "      <td>0.000000</td>\n",
              "      <td>Benign</td>\n",
              "    </tr>\n",
              "    <tr>\n",
              "      <th>4</th>\n",
              "      <td>1181</td>\n",
              "      <td>1906</td>\n",
              "      <td>2950</td>\n",
              "      <td>0.400339</td>\n",
              "      <td>0.619622</td>\n",
              "      <td>0.688243</td>\n",
              "      <td>0.398375</td>\n",
              "      <td>Benign</td>\n",
              "    </tr>\n",
              "    <tr>\n",
              "      <th>...</th>\n",
              "      <td>...</td>\n",
              "      <td>...</td>\n",
              "      <td>...</td>\n",
              "      <td>...</td>\n",
              "      <td>...</td>\n",
              "      <td>...</td>\n",
              "      <td>...</td>\n",
              "      <td>...</td>\n",
              "    </tr>\n",
              "    <tr>\n",
              "      <th>383</th>\n",
              "      <td>39029</td>\n",
              "      <td>69572</td>\n",
              "      <td>130249</td>\n",
              "      <td>4.250864</td>\n",
              "      <td>7.116404</td>\n",
              "      <td>9.366848</td>\n",
              "      <td>-5.904389</td>\n",
              "      <td>Benign</td>\n",
              "    </tr>\n",
              "    <tr>\n",
              "      <th>384</th>\n",
              "      <td>10687</td>\n",
              "      <td>13563</td>\n",
              "      <td>19755</td>\n",
              "      <td>1.483113</td>\n",
              "      <td>2.290833</td>\n",
              "      <td>2.772270</td>\n",
              "      <td>0.445958</td>\n",
              "      <td>Benign</td>\n",
              "    </tr>\n",
              "    <tr>\n",
              "      <th>385</th>\n",
              "      <td>7585</td>\n",
              "      <td>11723</td>\n",
              "      <td>19491</td>\n",
              "      <td>1.598245</td>\n",
              "      <td>2.679035</td>\n",
              "      <td>3.459306</td>\n",
              "      <td>-4.559435</td>\n",
              "      <td>Benign</td>\n",
              "    </tr>\n",
              "    <tr>\n",
              "      <th>386</th>\n",
              "      <td>1245</td>\n",
              "      <td>1413</td>\n",
              "      <td>2156</td>\n",
              "      <td>0.577458</td>\n",
              "      <td>0.881104</td>\n",
              "      <td>0.740596</td>\n",
              "      <td>1.082744</td>\n",
              "      <td>Benign</td>\n",
              "    </tr>\n",
              "    <tr>\n",
              "      <th>387</th>\n",
              "      <td>13974</td>\n",
              "      <td>25976</td>\n",
              "      <td>43464</td>\n",
              "      <td>2.932710</td>\n",
              "      <td>4.262175</td>\n",
              "      <td>5.113804</td>\n",
              "      <td>1.616369</td>\n",
              "      <td>Benign</td>\n",
              "    </tr>\n",
              "  </tbody>\n",
              "</table>\n",
              "<p>388 rows × 8 columns</p>\n",
              "</div>\n",
              "      <button class=\"colab-df-convert\" onclick=\"convertToInteractive('df-c2b5499a-6f99-486f-bdb4-ddc3223afb60')\"\n",
              "              title=\"Convert this dataframe to an interactive table.\"\n",
              "              style=\"display:none;\">\n",
              "        \n",
              "  <svg xmlns=\"http://www.w3.org/2000/svg\" height=\"24px\"viewBox=\"0 0 24 24\"\n",
              "       width=\"24px\">\n",
              "    <path d=\"M0 0h24v24H0V0z\" fill=\"none\"/>\n",
              "    <path d=\"M18.56 5.44l.94 2.06.94-2.06 2.06-.94-2.06-.94-.94-2.06-.94 2.06-2.06.94zm-11 1L8.5 8.5l.94-2.06 2.06-.94-2.06-.94L8.5 2.5l-.94 2.06-2.06.94zm10 10l.94 2.06.94-2.06 2.06-.94-2.06-.94-.94-2.06-.94 2.06-2.06.94z\"/><path d=\"M17.41 7.96l-1.37-1.37c-.4-.4-.92-.59-1.43-.59-.52 0-1.04.2-1.43.59L10.3 9.45l-7.72 7.72c-.78.78-.78 2.05 0 2.83L4 21.41c.39.39.9.59 1.41.59.51 0 1.02-.2 1.41-.59l7.78-7.78 2.81-2.81c.8-.78.8-2.07 0-2.86zM5.41 20L4 18.59l7.72-7.72 1.47 1.35L5.41 20z\"/>\n",
              "  </svg>\n",
              "      </button>\n",
              "      \n",
              "  <style>\n",
              "    .colab-df-container {\n",
              "      display:flex;\n",
              "      flex-wrap:wrap;\n",
              "      gap: 12px;\n",
              "    }\n",
              "\n",
              "    .colab-df-convert {\n",
              "      background-color: #E8F0FE;\n",
              "      border: none;\n",
              "      border-radius: 50%;\n",
              "      cursor: pointer;\n",
              "      display: none;\n",
              "      fill: #1967D2;\n",
              "      height: 32px;\n",
              "      padding: 0 0 0 0;\n",
              "      width: 32px;\n",
              "    }\n",
              "\n",
              "    .colab-df-convert:hover {\n",
              "      background-color: #E2EBFA;\n",
              "      box-shadow: 0px 1px 2px rgba(60, 64, 67, 0.3), 0px 1px 3px 1px rgba(60, 64, 67, 0.15);\n",
              "      fill: #174EA6;\n",
              "    }\n",
              "\n",
              "    [theme=dark] .colab-df-convert {\n",
              "      background-color: #3B4455;\n",
              "      fill: #D2E3FC;\n",
              "    }\n",
              "\n",
              "    [theme=dark] .colab-df-convert:hover {\n",
              "      background-color: #434B5C;\n",
              "      box-shadow: 0px 1px 3px 1px rgba(0, 0, 0, 0.15);\n",
              "      filter: drop-shadow(0px 1px 2px rgba(0, 0, 0, 0.3));\n",
              "      fill: #FFFFFF;\n",
              "    }\n",
              "  </style>\n",
              "\n",
              "      <script>\n",
              "        const buttonEl =\n",
              "          document.querySelector('#df-c2b5499a-6f99-486f-bdb4-ddc3223afb60 button.colab-df-convert');\n",
              "        buttonEl.style.display =\n",
              "          google.colab.kernel.accessAllowed ? 'block' : 'none';\n",
              "\n",
              "        async function convertToInteractive(key) {\n",
              "          const element = document.querySelector('#df-c2b5499a-6f99-486f-bdb4-ddc3223afb60');\n",
              "          const dataTable =\n",
              "            await google.colab.kernel.invokeFunction('convertToInteractive',\n",
              "                                                     [key], {});\n",
              "          if (!dataTable) return;\n",
              "\n",
              "          const docLinkHtml = 'Like what you see? Visit the ' +\n",
              "            '<a target=\"_blank\" href=https://colab.research.google.com/notebooks/data_table.ipynb>data table notebook</a>'\n",
              "            + ' to learn more about interactive tables.';\n",
              "          element.innerHTML = '';\n",
              "          dataTable['output_type'] = 'display_data';\n",
              "          await google.colab.output.renderOutput(dataTable, element);\n",
              "          const docLink = document.createElement('div');\n",
              "          docLink.innerHTML = docLinkHtml;\n",
              "          element.appendChild(docLink);\n",
              "        }\n",
              "      </script>\n",
              "    </div>\n",
              "  </div>\n",
              "  "
            ]
          },
          "metadata": {},
          "execution_count": 233
        }
      ]
    },
    {
      "cell_type": "code",
      "source": [
        "df1.mean()"
      ],
      "metadata": {
        "id": "QSjF6EeHp1Sy",
        "colab": {
          "base_uri": "https://localhost:8080/"
        },
        "outputId": "23ed4edc-7dba-4f3d-cb79-e87017f11216"
      },
      "execution_count": null,
      "outputs": [
        {
          "output_type": "stream",
          "name": "stderr",
          "text": [
            "/usr/local/lib/python3.7/dist-packages/ipykernel_launcher.py:1: FutureWarning: Dropping of nuisance columns in DataFrame reductions (with 'numeric_only=None') is deprecated; in a future version this will raise TypeError.  Select only valid columns before calling the reduction.\n",
            "  \"\"\"Entry point for launching an IPython kernel.\n"
          ]
        },
        {
          "output_type": "execute_result",
          "data": {
            "text/plain": [
              "area_sum            12902.858247\n",
              "convex_area_sum     20975.097938\n",
              "bbox_area_sum       35073.608247\n",
              "extent_sum              2.455150\n",
              "solidity_sum            3.846764\n",
              "eccentricity_sum        4.816896\n",
              "orientation_sum        -0.482286\n",
              "dtype: float64"
            ]
          },
          "metadata": {},
          "execution_count": 234
        }
      ]
    },
    {
      "cell_type": "code",
      "source": [
        ""
      ],
      "metadata": {
        "id": "HO6Ze5jdqcYA"
      },
      "execution_count": null,
      "outputs": []
    },
    {
      "cell_type": "code",
      "source": [
        "df1.std()"
      ],
      "metadata": {
        "id": "uc98kUTfp7C4",
        "colab": {
          "base_uri": "https://localhost:8080/"
        },
        "outputId": "9631f7cc-7c58-4a9e-d664-0d9d7d52a8ce"
      },
      "execution_count": null,
      "outputs": [
        {
          "output_type": "stream",
          "name": "stderr",
          "text": [
            "/usr/local/lib/python3.7/dist-packages/ipykernel_launcher.py:1: FutureWarning: Dropping of nuisance columns in DataFrame reductions (with 'numeric_only=None') is deprecated; in a future version this will raise TypeError.  Select only valid columns before calling the reduction.\n",
            "  \"\"\"Entry point for launching an IPython kernel.\n"
          ]
        },
        {
          "output_type": "execute_result",
          "data": {
            "text/plain": [
              "area_sum            14631.714682\n",
              "convex_area_sum     24065.409957\n",
              "bbox_area_sum       40901.912120\n",
              "extent_sum              2.581173\n",
              "solidity_sum            3.975528\n",
              "eccentricity_sum        4.918848\n",
              "orientation_sum         3.115426\n",
              "dtype: float64"
            ]
          },
          "metadata": {},
          "execution_count": 235
        }
      ]
    },
    {
      "cell_type": "code",
      "source": [
        "import cv2\n",
        "import os\n",
        "from google.colab.patches import cv2_imshow\n",
        "from PIL import Image, ImageFilter \n",
        "def load_images_from_folder(folder):\n",
        "    images = []\n",
        "    i=0\n",
        "    for filename in os.listdir(folder):\n",
        "        img = cv2.imread(os.path.join(folder,filename))\n",
        "        if img is not None:\n",
        "            images.append(img)\n",
        "        gray_painting = cv2.cvtColor(img, cv2.COLOR_BGR2GRAY)\n",
        "        (thresh, blackAndWhiteImage) = cv2.threshold(gray_painting, 127, 255, cv2.THRESH_BINARY_INV) \n",
        "        cv2.imwrite('/content/gdrive/MyDrive/numpy_binarization1.png', blackAndWhiteImage)\n",
        "        binarized=imread('/content/gdrive/MyDrive/numpy_binarization1.png')\n",
        "        im1 = Image.open(r'/content/gdrive/MyDrive/numpy_binarization1.png') \n",
        "        im2 = im1.filter(ImageFilter.MedianFilter(size = 3)) \n",
        "        numpydata = asarray(im2)\n",
        "        label_im = label(numpydata)\n",
        "        regions = regionprops(label_im)\n",
        "        properties = [\"area\",\"convex_area\",\"bbox_area\", \"extent\", \"solidity\", \"eccentricity\", \"orientation\"]\n",
        "        df=pd.DataFrame(regionprops_table(label_im, properties=properties))\n",
        "        df=df[df['area']>1000]\n",
        "        df=df[df['area']<8000]\n",
        "        p1['area_sum'].append(df['area'].sum())\n",
        "        p1['convex_area_sum'].append(df['convex_area'].sum())\n",
        "        p1['bbox_area_sum'].append(df['bbox_area'].sum())\n",
        "        p1['extent_sum'].append(df['extent'].sum())\n",
        "        p1['solidity_sum'].append(df['solidity'].sum())\n",
        "        p1['eccentricity_sum'].append(df['eccentricity'].sum())\n",
        "        p1['orientation_sum'].append(df['orientation'].sum())"
      ],
      "metadata": {
        "id": "czT5udftq4uA"
      },
      "execution_count": null,
      "outputs": []
    },
    {
      "cell_type": "code",
      "source": [
        "load_images_from_folder('/content/gdrive/MyDrive/Breast Cancer DataSet/Train/Malignant')\n",
        "df2=pd.DataFrame(p1)\n",
        "df2['label']='Malignant'"
      ],
      "metadata": {
        "id": "cQkwKem9p6Gq"
      },
      "execution_count": null,
      "outputs": []
    },
    {
      "cell_type": "code",
      "source": [
        "df2"
      ],
      "metadata": {
        "id": "vw_5x_ofNNon",
        "colab": {
          "base_uri": "https://localhost:8080/",
          "height": 424
        },
        "outputId": "3e477250-1428-46f0-e4f5-34741780af64"
      },
      "execution_count": null,
      "outputs": [
        {
          "output_type": "execute_result",
          "data": {
            "text/plain": [
              "     area_sum  convex_area_sum  bbox_area_sum  extent_sum  solidity_sum  \\\n",
              "0       34701            55221          81915    9.528217     13.620742   \n",
              "1       18767            23807          36598    6.763479      9.845817   \n",
              "2       15821            28791          46945    3.428025      4.908466   \n",
              "3       42902            63561         100063    6.843724     10.461863   \n",
              "4        1033             1582           2340    0.441453      0.652971   \n",
              "..        ...              ...            ...         ...           ...   \n",
              "417     35989            57458          86818    7.558766     11.217554   \n",
              "418      2449             3332           4860    1.034844      1.514000   \n",
              "419     42138            61089          91390   10.213970     14.730184   \n",
              "420     42381            63299          91775    9.026271     12.726215   \n",
              "421     67711           104340         206537   11.192590     19.200395   \n",
              "\n",
              "     eccentricity_sum  orientation_sum      label  \n",
              "0           15.158442        -1.374574  Malignant  \n",
              "1            9.207437        -7.711092  Malignant  \n",
              "2            5.975439         1.899875  Malignant  \n",
              "3           13.115807        -0.003669  Malignant  \n",
              "4            0.966994        -0.121376  Malignant  \n",
              "..                ...              ...        ...  \n",
              "417         15.038537        -0.502834  Malignant  \n",
              "418          1.765594        -0.369559  Malignant  \n",
              "419         16.878196        -7.406711  Malignant  \n",
              "420         13.811006        -6.282314  Malignant  \n",
              "421         23.860691        11.183103  Malignant  \n",
              "\n",
              "[422 rows x 8 columns]"
            ],
            "text/html": [
              "\n",
              "  <div id=\"df-6196f445-be7e-44f5-935b-2feae705fca5\">\n",
              "    <div class=\"colab-df-container\">\n",
              "      <div>\n",
              "<style scoped>\n",
              "    .dataframe tbody tr th:only-of-type {\n",
              "        vertical-align: middle;\n",
              "    }\n",
              "\n",
              "    .dataframe tbody tr th {\n",
              "        vertical-align: top;\n",
              "    }\n",
              "\n",
              "    .dataframe thead th {\n",
              "        text-align: right;\n",
              "    }\n",
              "</style>\n",
              "<table border=\"1\" class=\"dataframe\">\n",
              "  <thead>\n",
              "    <tr style=\"text-align: right;\">\n",
              "      <th></th>\n",
              "      <th>area_sum</th>\n",
              "      <th>convex_area_sum</th>\n",
              "      <th>bbox_area_sum</th>\n",
              "      <th>extent_sum</th>\n",
              "      <th>solidity_sum</th>\n",
              "      <th>eccentricity_sum</th>\n",
              "      <th>orientation_sum</th>\n",
              "      <th>label</th>\n",
              "    </tr>\n",
              "  </thead>\n",
              "  <tbody>\n",
              "    <tr>\n",
              "      <th>0</th>\n",
              "      <td>34701</td>\n",
              "      <td>55221</td>\n",
              "      <td>81915</td>\n",
              "      <td>9.528217</td>\n",
              "      <td>13.620742</td>\n",
              "      <td>15.158442</td>\n",
              "      <td>-1.374574</td>\n",
              "      <td>Malignant</td>\n",
              "    </tr>\n",
              "    <tr>\n",
              "      <th>1</th>\n",
              "      <td>18767</td>\n",
              "      <td>23807</td>\n",
              "      <td>36598</td>\n",
              "      <td>6.763479</td>\n",
              "      <td>9.845817</td>\n",
              "      <td>9.207437</td>\n",
              "      <td>-7.711092</td>\n",
              "      <td>Malignant</td>\n",
              "    </tr>\n",
              "    <tr>\n",
              "      <th>2</th>\n",
              "      <td>15821</td>\n",
              "      <td>28791</td>\n",
              "      <td>46945</td>\n",
              "      <td>3.428025</td>\n",
              "      <td>4.908466</td>\n",
              "      <td>5.975439</td>\n",
              "      <td>1.899875</td>\n",
              "      <td>Malignant</td>\n",
              "    </tr>\n",
              "    <tr>\n",
              "      <th>3</th>\n",
              "      <td>42902</td>\n",
              "      <td>63561</td>\n",
              "      <td>100063</td>\n",
              "      <td>6.843724</td>\n",
              "      <td>10.461863</td>\n",
              "      <td>13.115807</td>\n",
              "      <td>-0.003669</td>\n",
              "      <td>Malignant</td>\n",
              "    </tr>\n",
              "    <tr>\n",
              "      <th>4</th>\n",
              "      <td>1033</td>\n",
              "      <td>1582</td>\n",
              "      <td>2340</td>\n",
              "      <td>0.441453</td>\n",
              "      <td>0.652971</td>\n",
              "      <td>0.966994</td>\n",
              "      <td>-0.121376</td>\n",
              "      <td>Malignant</td>\n",
              "    </tr>\n",
              "    <tr>\n",
              "      <th>...</th>\n",
              "      <td>...</td>\n",
              "      <td>...</td>\n",
              "      <td>...</td>\n",
              "      <td>...</td>\n",
              "      <td>...</td>\n",
              "      <td>...</td>\n",
              "      <td>...</td>\n",
              "      <td>...</td>\n",
              "    </tr>\n",
              "    <tr>\n",
              "      <th>417</th>\n",
              "      <td>35989</td>\n",
              "      <td>57458</td>\n",
              "      <td>86818</td>\n",
              "      <td>7.558766</td>\n",
              "      <td>11.217554</td>\n",
              "      <td>15.038537</td>\n",
              "      <td>-0.502834</td>\n",
              "      <td>Malignant</td>\n",
              "    </tr>\n",
              "    <tr>\n",
              "      <th>418</th>\n",
              "      <td>2449</td>\n",
              "      <td>3332</td>\n",
              "      <td>4860</td>\n",
              "      <td>1.034844</td>\n",
              "      <td>1.514000</td>\n",
              "      <td>1.765594</td>\n",
              "      <td>-0.369559</td>\n",
              "      <td>Malignant</td>\n",
              "    </tr>\n",
              "    <tr>\n",
              "      <th>419</th>\n",
              "      <td>42138</td>\n",
              "      <td>61089</td>\n",
              "      <td>91390</td>\n",
              "      <td>10.213970</td>\n",
              "      <td>14.730184</td>\n",
              "      <td>16.878196</td>\n",
              "      <td>-7.406711</td>\n",
              "      <td>Malignant</td>\n",
              "    </tr>\n",
              "    <tr>\n",
              "      <th>420</th>\n",
              "      <td>42381</td>\n",
              "      <td>63299</td>\n",
              "      <td>91775</td>\n",
              "      <td>9.026271</td>\n",
              "      <td>12.726215</td>\n",
              "      <td>13.811006</td>\n",
              "      <td>-6.282314</td>\n",
              "      <td>Malignant</td>\n",
              "    </tr>\n",
              "    <tr>\n",
              "      <th>421</th>\n",
              "      <td>67711</td>\n",
              "      <td>104340</td>\n",
              "      <td>206537</td>\n",
              "      <td>11.192590</td>\n",
              "      <td>19.200395</td>\n",
              "      <td>23.860691</td>\n",
              "      <td>11.183103</td>\n",
              "      <td>Malignant</td>\n",
              "    </tr>\n",
              "  </tbody>\n",
              "</table>\n",
              "<p>422 rows × 8 columns</p>\n",
              "</div>\n",
              "      <button class=\"colab-df-convert\" onclick=\"convertToInteractive('df-6196f445-be7e-44f5-935b-2feae705fca5')\"\n",
              "              title=\"Convert this dataframe to an interactive table.\"\n",
              "              style=\"display:none;\">\n",
              "        \n",
              "  <svg xmlns=\"http://www.w3.org/2000/svg\" height=\"24px\"viewBox=\"0 0 24 24\"\n",
              "       width=\"24px\">\n",
              "    <path d=\"M0 0h24v24H0V0z\" fill=\"none\"/>\n",
              "    <path d=\"M18.56 5.44l.94 2.06.94-2.06 2.06-.94-2.06-.94-.94-2.06-.94 2.06-2.06.94zm-11 1L8.5 8.5l.94-2.06 2.06-.94-2.06-.94L8.5 2.5l-.94 2.06-2.06.94zm10 10l.94 2.06.94-2.06 2.06-.94-2.06-.94-.94-2.06-.94 2.06-2.06.94z\"/><path d=\"M17.41 7.96l-1.37-1.37c-.4-.4-.92-.59-1.43-.59-.52 0-1.04.2-1.43.59L10.3 9.45l-7.72 7.72c-.78.78-.78 2.05 0 2.83L4 21.41c.39.39.9.59 1.41.59.51 0 1.02-.2 1.41-.59l7.78-7.78 2.81-2.81c.8-.78.8-2.07 0-2.86zM5.41 20L4 18.59l7.72-7.72 1.47 1.35L5.41 20z\"/>\n",
              "  </svg>\n",
              "      </button>\n",
              "      \n",
              "  <style>\n",
              "    .colab-df-container {\n",
              "      display:flex;\n",
              "      flex-wrap:wrap;\n",
              "      gap: 12px;\n",
              "    }\n",
              "\n",
              "    .colab-df-convert {\n",
              "      background-color: #E8F0FE;\n",
              "      border: none;\n",
              "      border-radius: 50%;\n",
              "      cursor: pointer;\n",
              "      display: none;\n",
              "      fill: #1967D2;\n",
              "      height: 32px;\n",
              "      padding: 0 0 0 0;\n",
              "      width: 32px;\n",
              "    }\n",
              "\n",
              "    .colab-df-convert:hover {\n",
              "      background-color: #E2EBFA;\n",
              "      box-shadow: 0px 1px 2px rgba(60, 64, 67, 0.3), 0px 1px 3px 1px rgba(60, 64, 67, 0.15);\n",
              "      fill: #174EA6;\n",
              "    }\n",
              "\n",
              "    [theme=dark] .colab-df-convert {\n",
              "      background-color: #3B4455;\n",
              "      fill: #D2E3FC;\n",
              "    }\n",
              "\n",
              "    [theme=dark] .colab-df-convert:hover {\n",
              "      background-color: #434B5C;\n",
              "      box-shadow: 0px 1px 3px 1px rgba(0, 0, 0, 0.15);\n",
              "      filter: drop-shadow(0px 1px 2px rgba(0, 0, 0, 0.3));\n",
              "      fill: #FFFFFF;\n",
              "    }\n",
              "  </style>\n",
              "\n",
              "      <script>\n",
              "        const buttonEl =\n",
              "          document.querySelector('#df-6196f445-be7e-44f5-935b-2feae705fca5 button.colab-df-convert');\n",
              "        buttonEl.style.display =\n",
              "          google.colab.kernel.accessAllowed ? 'block' : 'none';\n",
              "\n",
              "        async function convertToInteractive(key) {\n",
              "          const element = document.querySelector('#df-6196f445-be7e-44f5-935b-2feae705fca5');\n",
              "          const dataTable =\n",
              "            await google.colab.kernel.invokeFunction('convertToInteractive',\n",
              "                                                     [key], {});\n",
              "          if (!dataTable) return;\n",
              "\n",
              "          const docLinkHtml = 'Like what you see? Visit the ' +\n",
              "            '<a target=\"_blank\" href=https://colab.research.google.com/notebooks/data_table.ipynb>data table notebook</a>'\n",
              "            + ' to learn more about interactive tables.';\n",
              "          element.innerHTML = '';\n",
              "          dataTable['output_type'] = 'display_data';\n",
              "          await google.colab.output.renderOutput(dataTable, element);\n",
              "          const docLink = document.createElement('div');\n",
              "          docLink.innerHTML = docLinkHtml;\n",
              "          element.appendChild(docLink);\n",
              "        }\n",
              "      </script>\n",
              "    </div>\n",
              "  </div>\n",
              "  "
            ]
          },
          "metadata": {},
          "execution_count": 238
        }
      ]
    },
    {
      "cell_type": "code",
      "source": [
        "df2=df2.dropna()"
      ],
      "metadata": {
        "id": "aDJv69VTMqC2"
      },
      "execution_count": null,
      "outputs": []
    },
    {
      "cell_type": "code",
      "source": [
        "train = df1.merge(df2, how = 'outer')"
      ],
      "metadata": {
        "id": "d68NKvfWu8o6"
      },
      "execution_count": null,
      "outputs": []
    },
    {
      "cell_type": "code",
      "source": [
        "import cv2\n",
        "import os\n",
        "from google.colab.patches import cv2_imshow\n",
        "from PIL import Image, ImageFilter \n",
        "def load_images_from_folder(folder):\n",
        "    images = []\n",
        "    i=0\n",
        "    for filename in os.listdir(folder):\n",
        "        img = cv2.imread(os.path.join(folder,filename))\n",
        "        if img is not None:\n",
        "            images.append(img)\n",
        "        gray_painting = cv2.cvtColor(img, cv2.COLOR_BGR2GRAY)\n",
        "        (thresh, blackAndWhiteImage) = cv2.threshold(gray_painting, 127, 255, cv2.THRESH_BINARY_INV) \n",
        "        cv2.imwrite('/content/gdrive/MyDrive/numpy_binarization1.png', blackAndWhiteImage)\n",
        "        binarized=imread('/content/gdrive/MyDrive/numpy_binarization1.png')\n",
        "        im1 = Image.open(r'/content/gdrive/MyDrive/numpy_binarization1.png') \n",
        "        im2 = im1.filter(ImageFilter.MedianFilter(size = 3)) \n",
        "        numpydata = asarray(im2)\n",
        "        label_im = label(numpydata)\n",
        "        regions = regionprops(label_im)\n",
        "        properties = [\"area\",\"convex_area\",\"bbox_area\", \"extent\", \"solidity\", \"eccentricity\", \"orientation\"]\n",
        "        df=pd.DataFrame(regionprops_table(label_im, properties=properties))\n",
        "        df=df[df['area']>1000]\n",
        "        df=df[df['area']<8000]\n",
        "        p2['area_sum'].append(df['area'].sum())\n",
        "        p2['convex_area_sum'].append(df['convex_area'].sum())\n",
        "        p2['bbox_area_sum'].append(df['bbox_area'].sum())\n",
        "        p2['extent_sum'].append(df['extent'].sum())\n",
        "        p2['solidity_sum'].append(df['solidity'].sum())\n",
        "        p2['eccentricity_sum'].append(df['eccentricity'].sum())\n",
        "        p2['orientation_sum'].append(df['orientation'].sum())"
      ],
      "metadata": {
        "id": "4tAUV3bjH1MV"
      },
      "execution_count": null,
      "outputs": []
    },
    {
      "cell_type": "code",
      "source": [
        "load_images_from_folder('/content/gdrive/MyDrive/Breast Cancer DataSet/Test/Benign')\n",
        "df3=pd.DataFrame(p2)\n",
        "df3['label']='Benign'"
      ],
      "metadata": {
        "id": "08w7BlTiIk90"
      },
      "execution_count": null,
      "outputs": []
    },
    {
      "cell_type": "code",
      "source": [
        "import cv2\n",
        "import os\n",
        "from google.colab.patches import cv2_imshow\n",
        "from PIL import Image, ImageFilter \n",
        "def load_images_from_folder(folder):\n",
        "    images = []\n",
        "    i=0\n",
        "    for filename in os.listdir(folder):\n",
        "        img = cv2.imread(os.path.join(folder,filename))\n",
        "        if img is not None:\n",
        "            images.append(img)\n",
        "        gray_painting = cv2.cvtColor(img, cv2.COLOR_BGR2GRAY)\n",
        "        (thresh, blackAndWhiteImage) = cv2.threshold(gray_painting, 127, 255, cv2.THRESH_BINARY_INV) \n",
        "        cv2.imwrite('/content/gdrive/MyDrive/numpy_binarization1.png', blackAndWhiteImage)\n",
        "        binarized=imread('/content/gdrive/MyDrive/numpy_binarization1.png')\n",
        "        im1 = Image.open(r'/content/gdrive/MyDrive/numpy_binarization1.png') \n",
        "        im2 = im1.filter(ImageFilter.MedianFilter(size = 3)) \n",
        "        numpydata = asarray(im2)\n",
        "        label_im = label(numpydata)\n",
        "        regions = regionprops(label_im)\n",
        "        properties = [\"area\",\"convex_area\",\"bbox_area\", \"extent\", \"solidity\", \"eccentricity\", \"orientation\"]\n",
        "        df=pd.DataFrame(regionprops_table(label_im, properties=properties))\n",
        "        df=df[df['area']>1000]\n",
        "        df=df[df['area']<8000]\n",
        "        p3['area_sum'].append(df['area'].sum())\n",
        "        p3['convex_area_sum'].append(df['convex_area'].sum())\n",
        "        p3['bbox_area_sum'].append(df['bbox_area'].sum())\n",
        "        p3['extent_sum'].append(df['extent'].sum())\n",
        "        p3['solidity_sum'].append(df['solidity'].sum())\n",
        "        p3['eccentricity_sum'].append(df['eccentricity'].sum())\n",
        "        p3['orientation_sum'].append(df['orientation'].sum())"
      ],
      "metadata": {
        "id": "qULvcrJVH060"
      },
      "execution_count": null,
      "outputs": []
    },
    {
      "cell_type": "code",
      "source": [
        "load_images_from_folder('/content/gdrive/MyDrive/Breast Cancer DataSet/Test/Malignant')\n",
        "df4=pd.DataFrame(p3)\n",
        "df4['label']='Malignant'"
      ],
      "metadata": {
        "id": "vwHEzlppI1vX"
      },
      "execution_count": null,
      "outputs": []
    },
    {
      "cell_type": "code",
      "source": [
        "test = df3.merge(df4, how = 'outer')"
      ],
      "metadata": {
        "id": "7Ke6TOjMJAbP"
      },
      "execution_count": null,
      "outputs": []
    },
    {
      "cell_type": "code",
      "source": [
        "train=train.dropna()"
      ],
      "metadata": {
        "id": "ocSnfPcBNA1g"
      },
      "execution_count": null,
      "outputs": []
    },
    {
      "cell_type": "code",
      "source": [
        "test=test.dropna()"
      ],
      "metadata": {
        "id": "ThBUnaVsNCtM"
      },
      "execution_count": null,
      "outputs": []
    },
    {
      "cell_type": "code",
      "source": [
        "X_train=train[['area_sum','convex_area_sum','bbox_area_sum','extent_sum','solidity_sum','eccentricity_sum','orientation_sum']]\n",
        "y_train=train['label']"
      ],
      "metadata": {
        "id": "5V27MMXsE4ql"
      },
      "execution_count": null,
      "outputs": []
    },
    {
      "cell_type": "code",
      "source": [
        "X_test=test[['area_sum','convex_area_sum','bbox_area_sum','extent_sum','solidity_sum','eccentricity_sum','orientation_sum']]\n",
        "y_test=test['label']"
      ],
      "metadata": {
        "id": "e0mnqz44JPOr"
      },
      "execution_count": null,
      "outputs": []
    },
    {
      "cell_type": "code",
      "source": [
        "X_train_min=X_train.min()\n",
        "X_train_min"
      ],
      "metadata": {
        "id": "uXxxuq3ZB02N",
        "colab": {
          "base_uri": "https://localhost:8080/"
        },
        "outputId": "42229958-6c38-4637-f0c7-c20a1518f673"
      },
      "execution_count": null,
      "outputs": [
        {
          "output_type": "execute_result",
          "data": {
            "text/plain": [
              "area_sum             0.000000\n",
              "convex_area_sum      0.000000\n",
              "bbox_area_sum        0.000000\n",
              "extent_sum           0.000000\n",
              "solidity_sum         0.000000\n",
              "eccentricity_sum     0.000000\n",
              "orientation_sum    -19.764785\n",
              "dtype: float64"
            ]
          },
          "metadata": {},
          "execution_count": 250
        }
      ]
    },
    {
      "cell_type": "code",
      "source": [
        "X_train_max=X_train.max()\n",
        "X_train_max"
      ],
      "metadata": {
        "id": "n8uOW9S6FRK9",
        "colab": {
          "base_uri": "https://localhost:8080/"
        },
        "outputId": "219efe82-ea4f-4b20-b950-c8540fc6c710"
      },
      "execution_count": null,
      "outputs": [
        {
          "output_type": "execute_result",
          "data": {
            "text/plain": [
              "area_sum             92194.000000\n",
              "convex_area_sum     189486.000000\n",
              "bbox_area_sum       350817.000000\n",
              "extent_sum              18.792698\n",
              "solidity_sum            27.125227\n",
              "eccentricity_sum        30.281836\n",
              "orientation_sum         12.614930\n",
              "dtype: float64"
            ]
          },
          "metadata": {},
          "execution_count": 251
        }
      ]
    },
    {
      "cell_type": "code",
      "source": [
        "X_train_range=(X_train_max- X_train_min)\n",
        "X_train_range"
      ],
      "metadata": {
        "id": "UpoYPK3tFWzm",
        "colab": {
          "base_uri": "https://localhost:8080/"
        },
        "outputId": "1514e34b-d6e9-4f7d-ac9c-899f1dcda806"
      },
      "execution_count": null,
      "outputs": [
        {
          "output_type": "execute_result",
          "data": {
            "text/plain": [
              "area_sum             92194.000000\n",
              "convex_area_sum     189486.000000\n",
              "bbox_area_sum       350817.000000\n",
              "extent_sum              18.792698\n",
              "solidity_sum            27.125227\n",
              "eccentricity_sum        30.281836\n",
              "orientation_sum         32.379715\n",
              "dtype: float64"
            ]
          },
          "metadata": {},
          "execution_count": 252
        }
      ]
    },
    {
      "cell_type": "code",
      "source": [
        "X_train_scaled=(X_train- X_train_min)/X_train_range\n",
        "X_train_scaled"
      ],
      "metadata": {
        "id": "x8ej0mjTFqlw",
        "colab": {
          "base_uri": "https://localhost:8080/",
          "height": 424
        },
        "outputId": "54cb7a2f-3bba-435e-c62a-e59a7f6ffed1"
      },
      "execution_count": null,
      "outputs": [
        {
          "output_type": "execute_result",
          "data": {
            "text/plain": [
              "     area_sum  convex_area_sum  bbox_area_sum  extent_sum  solidity_sum  \\\n",
              "0    0.087381         0.068148       0.069808    0.125119      0.146275   \n",
              "1    0.000000         0.000000       0.000000    0.000000      0.000000   \n",
              "2    0.000000         0.000000       0.000000    0.000000      0.000000   \n",
              "3    0.000000         0.000000       0.000000    0.000000      0.000000   \n",
              "4    0.000000         0.000000       0.000000    0.000000      0.000000   \n",
              "..        ...              ...            ...         ...           ...   \n",
              "805  0.390362         0.303231       0.247474    0.402218      0.413547   \n",
              "806  0.026564         0.017584       0.013853    0.055066      0.055815   \n",
              "807  0.457058         0.322393       0.260506    0.543507      0.543044   \n",
              "808  0.459694         0.334056       0.261604    0.480307      0.469165   \n",
              "809  0.734440         0.550648       0.588731    0.595582      0.707843   \n",
              "\n",
              "     eccentricity_sum  orientation_sum  \n",
              "0            0.170664         0.519072  \n",
              "1            0.000000         0.610406  \n",
              "2            0.000000         0.610406  \n",
              "3            0.000000         0.610406  \n",
              "4            0.000000         0.610406  \n",
              "..                ...              ...  \n",
              "805          0.496619         0.594877  \n",
              "806          0.058305         0.598993  \n",
              "807          0.557370         0.381661  \n",
              "808          0.456082         0.416386  \n",
              "809          0.787954         0.955780  \n",
              "\n",
              "[810 rows x 7 columns]"
            ],
            "text/html": [
              "\n",
              "  <div id=\"df-f3102688-f1c9-415c-b0e1-681175e702a9\">\n",
              "    <div class=\"colab-df-container\">\n",
              "      <div>\n",
              "<style scoped>\n",
              "    .dataframe tbody tr th:only-of-type {\n",
              "        vertical-align: middle;\n",
              "    }\n",
              "\n",
              "    .dataframe tbody tr th {\n",
              "        vertical-align: top;\n",
              "    }\n",
              "\n",
              "    .dataframe thead th {\n",
              "        text-align: right;\n",
              "    }\n",
              "</style>\n",
              "<table border=\"1\" class=\"dataframe\">\n",
              "  <thead>\n",
              "    <tr style=\"text-align: right;\">\n",
              "      <th></th>\n",
              "      <th>area_sum</th>\n",
              "      <th>convex_area_sum</th>\n",
              "      <th>bbox_area_sum</th>\n",
              "      <th>extent_sum</th>\n",
              "      <th>solidity_sum</th>\n",
              "      <th>eccentricity_sum</th>\n",
              "      <th>orientation_sum</th>\n",
              "    </tr>\n",
              "  </thead>\n",
              "  <tbody>\n",
              "    <tr>\n",
              "      <th>0</th>\n",
              "      <td>0.087381</td>\n",
              "      <td>0.068148</td>\n",
              "      <td>0.069808</td>\n",
              "      <td>0.125119</td>\n",
              "      <td>0.146275</td>\n",
              "      <td>0.170664</td>\n",
              "      <td>0.519072</td>\n",
              "    </tr>\n",
              "    <tr>\n",
              "      <th>1</th>\n",
              "      <td>0.000000</td>\n",
              "      <td>0.000000</td>\n",
              "      <td>0.000000</td>\n",
              "      <td>0.000000</td>\n",
              "      <td>0.000000</td>\n",
              "      <td>0.000000</td>\n",
              "      <td>0.610406</td>\n",
              "    </tr>\n",
              "    <tr>\n",
              "      <th>2</th>\n",
              "      <td>0.000000</td>\n",
              "      <td>0.000000</td>\n",
              "      <td>0.000000</td>\n",
              "      <td>0.000000</td>\n",
              "      <td>0.000000</td>\n",
              "      <td>0.000000</td>\n",
              "      <td>0.610406</td>\n",
              "    </tr>\n",
              "    <tr>\n",
              "      <th>3</th>\n",
              "      <td>0.000000</td>\n",
              "      <td>0.000000</td>\n",
              "      <td>0.000000</td>\n",
              "      <td>0.000000</td>\n",
              "      <td>0.000000</td>\n",
              "      <td>0.000000</td>\n",
              "      <td>0.610406</td>\n",
              "    </tr>\n",
              "    <tr>\n",
              "      <th>4</th>\n",
              "      <td>0.000000</td>\n",
              "      <td>0.000000</td>\n",
              "      <td>0.000000</td>\n",
              "      <td>0.000000</td>\n",
              "      <td>0.000000</td>\n",
              "      <td>0.000000</td>\n",
              "      <td>0.610406</td>\n",
              "    </tr>\n",
              "    <tr>\n",
              "      <th>...</th>\n",
              "      <td>...</td>\n",
              "      <td>...</td>\n",
              "      <td>...</td>\n",
              "      <td>...</td>\n",
              "      <td>...</td>\n",
              "      <td>...</td>\n",
              "      <td>...</td>\n",
              "    </tr>\n",
              "    <tr>\n",
              "      <th>805</th>\n",
              "      <td>0.390362</td>\n",
              "      <td>0.303231</td>\n",
              "      <td>0.247474</td>\n",
              "      <td>0.402218</td>\n",
              "      <td>0.413547</td>\n",
              "      <td>0.496619</td>\n",
              "      <td>0.594877</td>\n",
              "    </tr>\n",
              "    <tr>\n",
              "      <th>806</th>\n",
              "      <td>0.026564</td>\n",
              "      <td>0.017584</td>\n",
              "      <td>0.013853</td>\n",
              "      <td>0.055066</td>\n",
              "      <td>0.055815</td>\n",
              "      <td>0.058305</td>\n",
              "      <td>0.598993</td>\n",
              "    </tr>\n",
              "    <tr>\n",
              "      <th>807</th>\n",
              "      <td>0.457058</td>\n",
              "      <td>0.322393</td>\n",
              "      <td>0.260506</td>\n",
              "      <td>0.543507</td>\n",
              "      <td>0.543044</td>\n",
              "      <td>0.557370</td>\n",
              "      <td>0.381661</td>\n",
              "    </tr>\n",
              "    <tr>\n",
              "      <th>808</th>\n",
              "      <td>0.459694</td>\n",
              "      <td>0.334056</td>\n",
              "      <td>0.261604</td>\n",
              "      <td>0.480307</td>\n",
              "      <td>0.469165</td>\n",
              "      <td>0.456082</td>\n",
              "      <td>0.416386</td>\n",
              "    </tr>\n",
              "    <tr>\n",
              "      <th>809</th>\n",
              "      <td>0.734440</td>\n",
              "      <td>0.550648</td>\n",
              "      <td>0.588731</td>\n",
              "      <td>0.595582</td>\n",
              "      <td>0.707843</td>\n",
              "      <td>0.787954</td>\n",
              "      <td>0.955780</td>\n",
              "    </tr>\n",
              "  </tbody>\n",
              "</table>\n",
              "<p>810 rows × 7 columns</p>\n",
              "</div>\n",
              "      <button class=\"colab-df-convert\" onclick=\"convertToInteractive('df-f3102688-f1c9-415c-b0e1-681175e702a9')\"\n",
              "              title=\"Convert this dataframe to an interactive table.\"\n",
              "              style=\"display:none;\">\n",
              "        \n",
              "  <svg xmlns=\"http://www.w3.org/2000/svg\" height=\"24px\"viewBox=\"0 0 24 24\"\n",
              "       width=\"24px\">\n",
              "    <path d=\"M0 0h24v24H0V0z\" fill=\"none\"/>\n",
              "    <path d=\"M18.56 5.44l.94 2.06.94-2.06 2.06-.94-2.06-.94-.94-2.06-.94 2.06-2.06.94zm-11 1L8.5 8.5l.94-2.06 2.06-.94-2.06-.94L8.5 2.5l-.94 2.06-2.06.94zm10 10l.94 2.06.94-2.06 2.06-.94-2.06-.94-.94-2.06-.94 2.06-2.06.94z\"/><path d=\"M17.41 7.96l-1.37-1.37c-.4-.4-.92-.59-1.43-.59-.52 0-1.04.2-1.43.59L10.3 9.45l-7.72 7.72c-.78.78-.78 2.05 0 2.83L4 21.41c.39.39.9.59 1.41.59.51 0 1.02-.2 1.41-.59l7.78-7.78 2.81-2.81c.8-.78.8-2.07 0-2.86zM5.41 20L4 18.59l7.72-7.72 1.47 1.35L5.41 20z\"/>\n",
              "  </svg>\n",
              "      </button>\n",
              "      \n",
              "  <style>\n",
              "    .colab-df-container {\n",
              "      display:flex;\n",
              "      flex-wrap:wrap;\n",
              "      gap: 12px;\n",
              "    }\n",
              "\n",
              "    .colab-df-convert {\n",
              "      background-color: #E8F0FE;\n",
              "      border: none;\n",
              "      border-radius: 50%;\n",
              "      cursor: pointer;\n",
              "      display: none;\n",
              "      fill: #1967D2;\n",
              "      height: 32px;\n",
              "      padding: 0 0 0 0;\n",
              "      width: 32px;\n",
              "    }\n",
              "\n",
              "    .colab-df-convert:hover {\n",
              "      background-color: #E2EBFA;\n",
              "      box-shadow: 0px 1px 2px rgba(60, 64, 67, 0.3), 0px 1px 3px 1px rgba(60, 64, 67, 0.15);\n",
              "      fill: #174EA6;\n",
              "    }\n",
              "\n",
              "    [theme=dark] .colab-df-convert {\n",
              "      background-color: #3B4455;\n",
              "      fill: #D2E3FC;\n",
              "    }\n",
              "\n",
              "    [theme=dark] .colab-df-convert:hover {\n",
              "      background-color: #434B5C;\n",
              "      box-shadow: 0px 1px 3px 1px rgba(0, 0, 0, 0.15);\n",
              "      filter: drop-shadow(0px 1px 2px rgba(0, 0, 0, 0.3));\n",
              "      fill: #FFFFFF;\n",
              "    }\n",
              "  </style>\n",
              "\n",
              "      <script>\n",
              "        const buttonEl =\n",
              "          document.querySelector('#df-f3102688-f1c9-415c-b0e1-681175e702a9 button.colab-df-convert');\n",
              "        buttonEl.style.display =\n",
              "          google.colab.kernel.accessAllowed ? 'block' : 'none';\n",
              "\n",
              "        async function convertToInteractive(key) {\n",
              "          const element = document.querySelector('#df-f3102688-f1c9-415c-b0e1-681175e702a9');\n",
              "          const dataTable =\n",
              "            await google.colab.kernel.invokeFunction('convertToInteractive',\n",
              "                                                     [key], {});\n",
              "          if (!dataTable) return;\n",
              "\n",
              "          const docLinkHtml = 'Like what you see? Visit the ' +\n",
              "            '<a target=\"_blank\" href=https://colab.research.google.com/notebooks/data_table.ipynb>data table notebook</a>'\n",
              "            + ' to learn more about interactive tables.';\n",
              "          element.innerHTML = '';\n",
              "          dataTable['output_type'] = 'display_data';\n",
              "          await google.colab.output.renderOutput(dataTable, element);\n",
              "          const docLink = document.createElement('div');\n",
              "          docLink.innerHTML = docLinkHtml;\n",
              "          element.appendChild(docLink);\n",
              "        }\n",
              "      </script>\n",
              "    </div>\n",
              "  </div>\n",
              "  "
            ]
          },
          "metadata": {},
          "execution_count": 253
        }
      ]
    },
    {
      "cell_type": "code",
      "source": [
        "X_test_min=X_test.min()\n",
        "X_test_min"
      ],
      "metadata": {
        "id": "w0N59y1XGqnh",
        "colab": {
          "base_uri": "https://localhost:8080/"
        },
        "outputId": "c82c2e59-2856-4234-aeb0-17c574b653c9"
      },
      "execution_count": null,
      "outputs": [
        {
          "output_type": "execute_result",
          "data": {
            "text/plain": [
              "area_sum             0.000000\n",
              "convex_area_sum      0.000000\n",
              "bbox_area_sum        0.000000\n",
              "extent_sum           0.000000\n",
              "solidity_sum         0.000000\n",
              "eccentricity_sum     0.000000\n",
              "orientation_sum    -13.088819\n",
              "dtype: float64"
            ]
          },
          "metadata": {},
          "execution_count": 254
        }
      ]
    },
    {
      "cell_type": "code",
      "source": [
        "\n",
        "X_test_max=X_test.max()\n",
        "X_test_max"
      ],
      "metadata": {
        "id": "DaSfd3z4Gqci",
        "colab": {
          "base_uri": "https://localhost:8080/"
        },
        "outputId": "8f46958f-a12b-40b6-a019-6724f10f9ad5"
      },
      "execution_count": null,
      "outputs": [
        {
          "output_type": "execute_result",
          "data": {
            "text/plain": [
              "area_sum             89316.000000\n",
              "convex_area_sum     157578.000000\n",
              "bbox_area_sum       256718.000000\n",
              "extent_sum              20.038149\n",
              "solidity_sum            28.417768\n",
              "eccentricity_sum        25.928453\n",
              "orientation_sum         11.400323\n",
              "dtype: float64"
            ]
          },
          "metadata": {},
          "execution_count": 255
        }
      ]
    },
    {
      "cell_type": "code",
      "source": [
        "X_test_range=(X_test_max- X_test_min)\n",
        "X_test_range"
      ],
      "metadata": {
        "id": "s4tkbh8UGqPw",
        "colab": {
          "base_uri": "https://localhost:8080/"
        },
        "outputId": "d6febb47-cc7f-4c23-a6c8-38d671f4dc72"
      },
      "execution_count": null,
      "outputs": [
        {
          "output_type": "execute_result",
          "data": {
            "text/plain": [
              "area_sum             89316.000000\n",
              "convex_area_sum     157578.000000\n",
              "bbox_area_sum       256718.000000\n",
              "extent_sum              20.038149\n",
              "solidity_sum            28.417768\n",
              "eccentricity_sum        25.928453\n",
              "orientation_sum         24.489141\n",
              "dtype: float64"
            ]
          },
          "metadata": {},
          "execution_count": 256
        }
      ]
    },
    {
      "cell_type": "code",
      "source": [
        "X_test_scaled=(X_test- X_test_min)/X_test_range\n",
        "X_test_scaled.head()"
      ],
      "metadata": {
        "id": "Rc7rAcXoG5UX",
        "colab": {
          "base_uri": "https://localhost:8080/",
          "height": 206
        },
        "outputId": "c9ddd3ed-93ad-411d-ada4-83eceed99c45"
      },
      "execution_count": null,
      "outputs": [
        {
          "output_type": "execute_result",
          "data": {
            "text/plain": [
              "   area_sum  convex_area_sum  bbox_area_sum  extent_sum  solidity_sum  \\\n",
              "0  0.291090         0.273204       0.291951    0.305037      0.364185   \n",
              "1  0.219065         0.189512       0.179395    0.190480      0.199088   \n",
              "2  0.389684         0.313965       0.317037    0.330413      0.363008   \n",
              "3  0.365030         0.290986       0.308876    0.386422      0.424833   \n",
              "4  0.304201         0.402747       0.430916    0.167662      0.192640   \n",
              "\n",
              "   eccentricity_sum  orientation_sum  \n",
              "0          0.503647         0.319060  \n",
              "1          0.252766         0.603522  \n",
              "2          0.465133         0.475188  \n",
              "3          0.507624         0.526008  \n",
              "4          0.298525         0.356336  "
            ],
            "text/html": [
              "\n",
              "  <div id=\"df-cf05a11c-bb7d-4032-9086-49c67de419ac\">\n",
              "    <div class=\"colab-df-container\">\n",
              "      <div>\n",
              "<style scoped>\n",
              "    .dataframe tbody tr th:only-of-type {\n",
              "        vertical-align: middle;\n",
              "    }\n",
              "\n",
              "    .dataframe tbody tr th {\n",
              "        vertical-align: top;\n",
              "    }\n",
              "\n",
              "    .dataframe thead th {\n",
              "        text-align: right;\n",
              "    }\n",
              "</style>\n",
              "<table border=\"1\" class=\"dataframe\">\n",
              "  <thead>\n",
              "    <tr style=\"text-align: right;\">\n",
              "      <th></th>\n",
              "      <th>area_sum</th>\n",
              "      <th>convex_area_sum</th>\n",
              "      <th>bbox_area_sum</th>\n",
              "      <th>extent_sum</th>\n",
              "      <th>solidity_sum</th>\n",
              "      <th>eccentricity_sum</th>\n",
              "      <th>orientation_sum</th>\n",
              "    </tr>\n",
              "  </thead>\n",
              "  <tbody>\n",
              "    <tr>\n",
              "      <th>0</th>\n",
              "      <td>0.291090</td>\n",
              "      <td>0.273204</td>\n",
              "      <td>0.291951</td>\n",
              "      <td>0.305037</td>\n",
              "      <td>0.364185</td>\n",
              "      <td>0.503647</td>\n",
              "      <td>0.319060</td>\n",
              "    </tr>\n",
              "    <tr>\n",
              "      <th>1</th>\n",
              "      <td>0.219065</td>\n",
              "      <td>0.189512</td>\n",
              "      <td>0.179395</td>\n",
              "      <td>0.190480</td>\n",
              "      <td>0.199088</td>\n",
              "      <td>0.252766</td>\n",
              "      <td>0.603522</td>\n",
              "    </tr>\n",
              "    <tr>\n",
              "      <th>2</th>\n",
              "      <td>0.389684</td>\n",
              "      <td>0.313965</td>\n",
              "      <td>0.317037</td>\n",
              "      <td>0.330413</td>\n",
              "      <td>0.363008</td>\n",
              "      <td>0.465133</td>\n",
              "      <td>0.475188</td>\n",
              "    </tr>\n",
              "    <tr>\n",
              "      <th>3</th>\n",
              "      <td>0.365030</td>\n",
              "      <td>0.290986</td>\n",
              "      <td>0.308876</td>\n",
              "      <td>0.386422</td>\n",
              "      <td>0.424833</td>\n",
              "      <td>0.507624</td>\n",
              "      <td>0.526008</td>\n",
              "    </tr>\n",
              "    <tr>\n",
              "      <th>4</th>\n",
              "      <td>0.304201</td>\n",
              "      <td>0.402747</td>\n",
              "      <td>0.430916</td>\n",
              "      <td>0.167662</td>\n",
              "      <td>0.192640</td>\n",
              "      <td>0.298525</td>\n",
              "      <td>0.356336</td>\n",
              "    </tr>\n",
              "  </tbody>\n",
              "</table>\n",
              "</div>\n",
              "      <button class=\"colab-df-convert\" onclick=\"convertToInteractive('df-cf05a11c-bb7d-4032-9086-49c67de419ac')\"\n",
              "              title=\"Convert this dataframe to an interactive table.\"\n",
              "              style=\"display:none;\">\n",
              "        \n",
              "  <svg xmlns=\"http://www.w3.org/2000/svg\" height=\"24px\"viewBox=\"0 0 24 24\"\n",
              "       width=\"24px\">\n",
              "    <path d=\"M0 0h24v24H0V0z\" fill=\"none\"/>\n",
              "    <path d=\"M18.56 5.44l.94 2.06.94-2.06 2.06-.94-2.06-.94-.94-2.06-.94 2.06-2.06.94zm-11 1L8.5 8.5l.94-2.06 2.06-.94-2.06-.94L8.5 2.5l-.94 2.06-2.06.94zm10 10l.94 2.06.94-2.06 2.06-.94-2.06-.94-.94-2.06-.94 2.06-2.06.94z\"/><path d=\"M17.41 7.96l-1.37-1.37c-.4-.4-.92-.59-1.43-.59-.52 0-1.04.2-1.43.59L10.3 9.45l-7.72 7.72c-.78.78-.78 2.05 0 2.83L4 21.41c.39.39.9.59 1.41.59.51 0 1.02-.2 1.41-.59l7.78-7.78 2.81-2.81c.8-.78.8-2.07 0-2.86zM5.41 20L4 18.59l7.72-7.72 1.47 1.35L5.41 20z\"/>\n",
              "  </svg>\n",
              "      </button>\n",
              "      \n",
              "  <style>\n",
              "    .colab-df-container {\n",
              "      display:flex;\n",
              "      flex-wrap:wrap;\n",
              "      gap: 12px;\n",
              "    }\n",
              "\n",
              "    .colab-df-convert {\n",
              "      background-color: #E8F0FE;\n",
              "      border: none;\n",
              "      border-radius: 50%;\n",
              "      cursor: pointer;\n",
              "      display: none;\n",
              "      fill: #1967D2;\n",
              "      height: 32px;\n",
              "      padding: 0 0 0 0;\n",
              "      width: 32px;\n",
              "    }\n",
              "\n",
              "    .colab-df-convert:hover {\n",
              "      background-color: #E2EBFA;\n",
              "      box-shadow: 0px 1px 2px rgba(60, 64, 67, 0.3), 0px 1px 3px 1px rgba(60, 64, 67, 0.15);\n",
              "      fill: #174EA6;\n",
              "    }\n",
              "\n",
              "    [theme=dark] .colab-df-convert {\n",
              "      background-color: #3B4455;\n",
              "      fill: #D2E3FC;\n",
              "    }\n",
              "\n",
              "    [theme=dark] .colab-df-convert:hover {\n",
              "      background-color: #434B5C;\n",
              "      box-shadow: 0px 1px 3px 1px rgba(0, 0, 0, 0.15);\n",
              "      filter: drop-shadow(0px 1px 2px rgba(0, 0, 0, 0.3));\n",
              "      fill: #FFFFFF;\n",
              "    }\n",
              "  </style>\n",
              "\n",
              "      <script>\n",
              "        const buttonEl =\n",
              "          document.querySelector('#df-cf05a11c-bb7d-4032-9086-49c67de419ac button.colab-df-convert');\n",
              "        buttonEl.style.display =\n",
              "          google.colab.kernel.accessAllowed ? 'block' : 'none';\n",
              "\n",
              "        async function convertToInteractive(key) {\n",
              "          const element = document.querySelector('#df-cf05a11c-bb7d-4032-9086-49c67de419ac');\n",
              "          const dataTable =\n",
              "            await google.colab.kernel.invokeFunction('convertToInteractive',\n",
              "                                                     [key], {});\n",
              "          if (!dataTable) return;\n",
              "\n",
              "          const docLinkHtml = 'Like what you see? Visit the ' +\n",
              "            '<a target=\"_blank\" href=https://colab.research.google.com/notebooks/data_table.ipynb>data table notebook</a>'\n",
              "            + ' to learn more about interactive tables.';\n",
              "          element.innerHTML = '';\n",
              "          dataTable['output_type'] = 'display_data';\n",
              "          await google.colab.output.renderOutput(dataTable, element);\n",
              "          const docLink = document.createElement('div');\n",
              "          docLink.innerHTML = docLinkHtml;\n",
              "          element.appendChild(docLink);\n",
              "        }\n",
              "      </script>\n",
              "    </div>\n",
              "  </div>\n",
              "  "
            ]
          },
          "metadata": {},
          "execution_count": 257
        }
      ]
    },
    {
      "cell_type": "markdown",
      "source": [
        "without normalization"
      ],
      "metadata": {
        "id": "iGagX4gcroRV"
      }
    },
    {
      "cell_type": "code",
      "source": [
        "#SVM\n",
        "start=d.datetime.now()\n",
        "svm = SVC()\n",
        "svm.fit(X_train, y_train)\n",
        "pred = svm.predict(X_test)\n",
        "print('Elapsed time: ',str(d.datetime.now()-start))\n",
        "print('Accracy score:',mt.accuracy_score(y_test, pred))"
      ],
      "metadata": {
        "id": "Tgf_NMvrpp58",
        "colab": {
          "base_uri": "https://localhost:8080/"
        },
        "outputId": "3ad7a5fa-d3ac-4d3f-ca33-159fb2918a6f"
      },
      "execution_count": null,
      "outputs": [
        {
          "output_type": "stream",
          "name": "stdout",
          "text": [
            "Elapsed time:  0:00:00.048607\n",
            "Accracy score: 0.5348837209302325\n"
          ]
        }
      ]
    },
    {
      "cell_type": "code",
      "source": [
        "from sklearn.metrics import classification_report"
      ],
      "metadata": {
        "id": "wQ5XytBhxsMn"
      },
      "execution_count": null,
      "outputs": []
    },
    {
      "cell_type": "code",
      "source": [
        "print(classification_report(y_test, pred))"
      ],
      "metadata": {
        "id": "EKEBk7L0xlNA",
        "colab": {
          "base_uri": "https://localhost:8080/"
        },
        "outputId": "6486d32b-0823-459e-c1a2-a877188ffba4"
      },
      "execution_count": null,
      "outputs": [
        {
          "output_type": "stream",
          "name": "stdout",
          "text": [
            "              precision    recall  f1-score   support\n",
            "\n",
            "      Benign       0.56      0.28      0.38        64\n",
            "   Malignant       0.53      0.78      0.63        65\n",
            "\n",
            "    accuracy                           0.53       129\n",
            "   macro avg       0.54      0.53      0.50       129\n",
            "weighted avg       0.54      0.53      0.50       129\n",
            "\n"
          ]
        }
      ]
    },
    {
      "cell_type": "code",
      "source": [
        "start=d.datetime.now()\n",
        "dt = DecisionTreeClassifier()\n",
        "dt.fit(X_train, y_train)\n",
        "pred = dt.predict(X_test)\n",
        "print('Elapsed time: ',str(d.datetime.now()-start))\n",
        "print('Accracy score:',mt.accuracy_score(y_test, pred))"
      ],
      "metadata": {
        "id": "DUjNT99QqY-U",
        "colab": {
          "base_uri": "https://localhost:8080/"
        },
        "outputId": "0f8da17c-86c6-48b7-8c78-30d3aa72fb6e"
      },
      "execution_count": null,
      "outputs": [
        {
          "output_type": "stream",
          "name": "stdout",
          "text": [
            "Elapsed time:  0:00:00.014613\n",
            "Accracy score: 0.5581395348837209\n"
          ]
        }
      ]
    },
    {
      "cell_type": "code",
      "source": [
        "print(classification_report(y_test, pred))"
      ],
      "metadata": {
        "id": "hjgDm-Qgx-CY",
        "colab": {
          "base_uri": "https://localhost:8080/"
        },
        "outputId": "f37061c9-ebbc-4055-881c-e84ff6f76541"
      },
      "execution_count": null,
      "outputs": [
        {
          "output_type": "stream",
          "name": "stdout",
          "text": [
            "              precision    recall  f1-score   support\n",
            "\n",
            "      Benign       0.56      0.50      0.53        64\n",
            "   Malignant       0.56      0.62      0.58        65\n",
            "\n",
            "    accuracy                           0.56       129\n",
            "   macro avg       0.56      0.56      0.56       129\n",
            "weighted avg       0.56      0.56      0.56       129\n",
            "\n"
          ]
        }
      ]
    },
    {
      "cell_type": "code",
      "source": [
        "import numpy as np\n",
        "from sklearn import datasets\n",
        "from sklearn.model_selection import train_test_split\n",
        "from sklearn.preprocessing import StandardScaler\n",
        "from sklearn.linear_model import LogisticRegression\n",
        "from sklearn.pipeline import make_pipeline\n",
        "from sklearn.ensemble import BaggingClassifier\n",
        "from sklearn.model_selection import GridSearchCV\n",
        "from sklearn.neighbors import KNeighborsClassifier"
      ],
      "metadata": {
        "id": "huxBdWJy9QO-"
      },
      "execution_count": null,
      "outputs": []
    },
    {
      "cell_type": "code",
      "source": [
        "from sklearn.ensemble import RandomForestClassifier\n",
        "clf = RandomForestClassifier(max_depth=5, random_state=0)\n",
        "clf.fit(X_train, y_train)\n",
        "print('Model test Score: %.3f, ' %clf.score(X_test, y_test),\n",
        "      'Model training Score: %.3f' %clf.score(X_train, y_train))"
      ],
      "metadata": {
        "id": "JloiNNvl9_QN",
        "colab": {
          "base_uri": "https://localhost:8080/"
        },
        "outputId": "12662e9c-c515-47d1-8f50-22aa265dd643"
      },
      "execution_count": null,
      "outputs": [
        {
          "output_type": "stream",
          "name": "stdout",
          "text": [
            "Model test Score: 0.543,  Model training Score: 0.756\n"
          ]
        }
      ]
    },
    {
      "cell_type": "code",
      "source": [
        "pred=clf.predict(X_test)"
      ],
      "metadata": {
        "id": "bGSrEJ2FzAAM"
      },
      "execution_count": null,
      "outputs": []
    },
    {
      "cell_type": "code",
      "source": [
        "print(classification_report(y_test, pred))"
      ],
      "metadata": {
        "id": "rH0zSnUbzEb2",
        "colab": {
          "base_uri": "https://localhost:8080/"
        },
        "outputId": "54557c3c-0961-43c7-e711-3c2e41bf1a27"
      },
      "execution_count": null,
      "outputs": [
        {
          "output_type": "stream",
          "name": "stdout",
          "text": [
            "              precision    recall  f1-score   support\n",
            "\n",
            "      Benign       0.57      0.33      0.42        64\n",
            "   Malignant       0.53      0.75      0.62        65\n",
            "\n",
            "    accuracy                           0.54       129\n",
            "   macro avg       0.55      0.54      0.52       129\n",
            "weighted avg       0.55      0.54      0.52       129\n",
            "\n"
          ]
        }
      ]
    },
    {
      "cell_type": "code",
      "source": [
        "from sklearn.naive_bayes import GaussianNB\n",
        "nb = GaussianNB()\n",
        "nb.fit(X_train, y_train)\n",
        "y_pred_nb  =  nb.predict(X_test)\n",
        "ac = mt.accuracy_score(y_test,y_pred_nb)\n",
        "ac"
      ],
      "metadata": {
        "colab": {
          "base_uri": "https://localhost:8080/"
        },
        "id": "SkRrwmuKQxTC",
        "outputId": "a204fa69-e59b-4d5b-bf62-8bcb1521d803"
      },
      "execution_count": null,
      "outputs": [
        {
          "output_type": "execute_result",
          "data": {
            "text/plain": [
              "0.6666666666666666"
            ]
          },
          "metadata": {},
          "execution_count": 267
        }
      ]
    },
    {
      "cell_type": "code",
      "source": [
        "pipeline = make_pipeline(StandardScaler(),\n",
        "                        KNeighborsClassifier())\n",
        "bgclassifier = BaggingClassifier(base_estimator=pipeline, n_estimators=100,\n",
        "                                 max_features=0.5,\n",
        "                                 max_samples=100,\n",
        "                                 random_state=1, n_jobs=5)\n",
        "bgclassifier.fit(X_train, y_train)\n",
        "print('Model test Score: %.3f, ' %bgclassifier.score(X_test, y_test),\n",
        "      'Model training Score: %.3f' %bgclassifier.score(X_train, y_train))"
      ],
      "metadata": {
        "colab": {
          "base_uri": "https://localhost:8080/"
        },
        "id": "ADX97XlwVhdF",
        "outputId": "40b36135-d2a9-47f8-f8c3-da02d278c191"
      },
      "execution_count": null,
      "outputs": [
        {
          "output_type": "stream",
          "name": "stdout",
          "text": [
            "Model test Score: 0.527,  Model training Score: 0.688\n"
          ]
        }
      ]
    },
    {
      "cell_type": "code",
      "source": [
        "bgclassifier = BaggingClassifier(base_estimator=LogisticRegression(random_state=1), n_estimators=100,\n",
        "                                 max_features=0.5,\n",
        "                                 max_samples=100,\n",
        "                                 random_state=1, n_jobs=5)\n",
        "bgclassifier.fit(X_train, y_train)\n",
        "print('Model test Score: %.3f, ' %bgclassifier.score(X_test, y_test),\n",
        "      'Model training Score: %.3f' %bgclassifier.score(X_train, y_train))"
      ],
      "metadata": {
        "colab": {
          "base_uri": "https://localhost:8080/"
        },
        "id": "Y-aTUmHWVo95",
        "outputId": "21eaf0da-d937-47e2-9439-22d1441d736c"
      },
      "execution_count": null,
      "outputs": [
        {
          "output_type": "stream",
          "name": "stdout",
          "text": [
            "Model test Score: 0.496,  Model training Score: 0.656\n"
          ]
        }
      ]
    },
    {
      "cell_type": "markdown",
      "source": [
        "with normalized data"
      ],
      "metadata": {
        "id": "ja6T-d0nrzc-"
      }
    },
    {
      "cell_type": "code",
      "source": [
        "import numpy as np\n",
        "from sklearn import datasets\n",
        "from sklearn.model_selection import train_test_split\n",
        "from sklearn.preprocessing import StandardScaler\n",
        "from sklearn.linear_model import LogisticRegression\n",
        "from sklearn.pipeline import make_pipeline\n",
        "from sklearn.ensemble import BaggingClassifier\n",
        "from sklearn.model_selection import GridSearchCV\n",
        "from sklearn.neighbors import KNeighborsClassifier"
      ],
      "metadata": {
        "id": "EusB4P8QFKwm"
      },
      "execution_count": null,
      "outputs": []
    },
    {
      "cell_type": "code",
      "source": [
        "pipeline = make_pipeline(StandardScaler(),\n",
        "                        KNeighborsClassifier())\n",
        "bgclassifier = BaggingClassifier(base_estimator=pipeline, n_estimators=100,\n",
        "                                 max_features=0.5,\n",
        "                                 max_samples=100,\n",
        "                                 random_state=1, n_jobs=5)\n",
        "bgclassifier.fit(X_train_scaled, y_train)\n",
        "print('Model test Score: %.3f, ' %bgclassifier.score(X_test_scaled, y_test),\n",
        "      'Model training Score: %.3f' %bgclassifier.score(X_train_scaled, y_train))"
      ],
      "metadata": {
        "colab": {
          "base_uri": "https://localhost:8080/"
        },
        "id": "DmgEsncqHQ0x",
        "outputId": "57d19da5-d6c7-4c83-80d0-cf07495fff16"
      },
      "execution_count": null,
      "outputs": [
        {
          "output_type": "stream",
          "name": "stdout",
          "text": [
            "Model test Score: 0.581,  Model training Score: 0.688\n"
          ]
        }
      ]
    },
    {
      "cell_type": "code",
      "source": [
        "bgclassifier = BaggingClassifier(base_estimator=LogisticRegression(random_state=1), n_estimators=100,\n",
        "                                 max_features=0.5,\n",
        "                                 max_samples=100,\n",
        "                                 random_state=1, n_jobs=5)\n",
        "bgclassifier.fit(X_train_scaled, y_train)\n",
        "print('Model test Score: %.3f, ' %bgclassifier.score(X_test_scaled, y_test),\n",
        "      'Model training Score: %.3f' %bgclassifier.score(X_train_scaled, y_train))"
      ],
      "metadata": {
        "colab": {
          "base_uri": "https://localhost:8080/"
        },
        "id": "ADMIIUuEFHp8",
        "outputId": "7c47f0bd-b0fe-4328-c0db-8b21b0d4995c"
      },
      "execution_count": null,
      "outputs": [
        {
          "output_type": "stream",
          "name": "stdout",
          "text": [
            "Model test Score: 0.566,  Model training Score: 0.643\n"
          ]
        }
      ]
    },
    {
      "cell_type": "code",
      "source": [
        "#SVM\n",
        "start=d.datetime.now()\n",
        "svm = SVC()\n",
        "svm.fit(X_train_scaled, y_train)\n",
        "pred = svm.predict(X_test_scaled)\n",
        "print('Elapsed time: ',str(d.datetime.now()-start))\n",
        "print('Accracy score:',mt.accuracy_score(y_test, pred))"
      ],
      "metadata": {
        "id": "1xy4ALylr1Zx",
        "colab": {
          "base_uri": "https://localhost:8080/"
        },
        "outputId": "645bd073-c4b0-4211-bb7f-521aafc22002"
      },
      "execution_count": null,
      "outputs": [
        {
          "output_type": "stream",
          "name": "stdout",
          "text": [
            "Elapsed time:  0:00:00.049921\n",
            "Accracy score: 0.6046511627906976\n"
          ]
        }
      ]
    },
    {
      "cell_type": "code",
      "source": [
        "start=d.datetime.now()\n",
        "dt = DecisionTreeClassifier()\n",
        "dt.fit(X_train_scaled, y_train)\n",
        "pred = dt.predict(X_test_scaled)\n",
        "print('Elapsed time: ',str(d.datetime.now()-start))\n",
        "print('Accracy score:',mt.accuracy_score(y_test, pred))"
      ],
      "metadata": {
        "id": "9ye5wq_Kr4K7",
        "colab": {
          "base_uri": "https://localhost:8080/"
        },
        "outputId": "15c30913-2eb6-46a6-dddd-d0b06bc7bcfa"
      },
      "execution_count": null,
      "outputs": [
        {
          "output_type": "stream",
          "name": "stdout",
          "text": [
            "Elapsed time:  0:00:00.019679\n",
            "Accracy score: 0.6356589147286822\n"
          ]
        }
      ]
    },
    {
      "cell_type": "code",
      "source": [
        "from sklearn.ensemble import RandomForestClassifier\n",
        "clf = RandomForestClassifier(max_depth=5, random_state=0)\n",
        "clf.fit(X_train_scaled, y_train)\n",
        "print('Model test Score: %.3f, ' %clf.score(X_test_scaled, y_test),\n",
        "      'Model training Score: %.3f' %clf.score(X_train_scaled, y_train))"
      ],
      "metadata": {
        "id": "jur9Nw0iBQ7N",
        "colab": {
          "base_uri": "https://localhost:8080/"
        },
        "outputId": "c3533374-eb91-43ce-f24c-7cc62989cb31"
      },
      "execution_count": null,
      "outputs": [
        {
          "output_type": "stream",
          "name": "stdout",
          "text": [
            "Model test Score: 0.620,  Model training Score: 0.756\n"
          ]
        }
      ]
    },
    {
      "cell_type": "code",
      "source": [
        "from sklearn.preprocessing import StandardScaler\n",
        "sc = StandardScaler()\n",
        "X_train_s = sc.fit_transform(X_train)\n",
        "X_test_s = sc.transform(X_test)"
      ],
      "metadata": {
        "id": "-vx5uxzJP8om"
      },
      "execution_count": null,
      "outputs": []
    },
    {
      "cell_type": "code",
      "source": [
        "from sklearn.naive_bayes import GaussianNB\n",
        "classifier_nb = GaussianNB()\n",
        "classifier_nb.fit(X_train_s, y_train)\n",
        "y_pred_nb  =  classifier_nb.predict(X_test_s)\n",
        "ac = mt.accuracy_score(y_test,y_pred_nb)\n",
        "ac"
      ],
      "metadata": {
        "colab": {
          "base_uri": "https://localhost:8080/"
        },
        "id": "XYhwiHRuQMCj",
        "outputId": "677c4a33-c5b1-41ad-ebb0-1cecb6f374bc"
      },
      "execution_count": null,
      "outputs": [
        {
          "output_type": "execute_result",
          "data": {
            "text/plain": [
              "0.6666666666666666"
            ]
          },
          "metadata": {},
          "execution_count": 277
        }
      ]
    },
    {
      "cell_type": "code",
      "source": [
        "import seaborn as sns"
      ],
      "metadata": {
        "id": "BTMr1YIoFARE"
      },
      "execution_count": null,
      "outputs": []
    },
    {
      "cell_type": "code",
      "source": [
        "train.columns"
      ],
      "metadata": {
        "id": "qxy-MPeWKdSM",
        "colab": {
          "base_uri": "https://localhost:8080/"
        },
        "outputId": "2c6d579b-1a2b-4589-801d-e4ba6b7d4a54"
      },
      "execution_count": null,
      "outputs": [
        {
          "output_type": "execute_result",
          "data": {
            "text/plain": [
              "Index(['area_sum', 'convex_area_sum', 'bbox_area_sum', 'extent_sum',\n",
              "       'solidity_sum', 'eccentricity_sum', 'orientation_sum', 'label'],\n",
              "      dtype='object')"
            ]
          },
          "metadata": {},
          "execution_count": 279
        }
      ]
    },
    {
      "cell_type": "code",
      "source": [
        "def plot(y):\n",
        "  sns.kdeplot(data=train, x=y, hue=\"label\")"
      ],
      "metadata": {
        "id": "ggyv-a2lJik3"
      },
      "execution_count": null,
      "outputs": []
    },
    {
      "cell_type": "code",
      "source": [
        "plot(\"area_sum\")"
      ],
      "metadata": {
        "id": "IwUYIhF9tVW4",
        "colab": {
          "base_uri": "https://localhost:8080/",
          "height": 290
        },
        "outputId": "dc2d7372-efc7-4503-d015-a64848dd6e78"
      },
      "execution_count": null,
      "outputs": [
        {
          "output_type": "display_data",
          "data": {
            "text/plain": [
              "<Figure size 432x288 with 1 Axes>"
            ],
            "image/png": "[encoded data removed]"
          },
          "metadata": {
            "needs_background": "light"
          }
        }
      ]
    },
    {
      "cell_type": "code",
      "source": [
        "plot(\"convex_area_sum\")"
      ],
      "metadata": {
        "id": "hXw_VeU8tYTt",
        "colab": {
          "base_uri": "https://localhost:8080/",
          "height": 290
        },
        "outputId": "e0f038ce-9c99-41ca-e309-a4bd90251813"
      },
      "execution_count": null,
      "outputs": [
        {
          "output_type": "display_data",
          "data": {
            "text/plain": [
              "<Figure size 432x288 with 1 Axes>"
            ],
            "image/png": "[encoded data removed]"
          },
          "metadata": {
            "needs_background": "light"
          }
        }
      ]
    },
    {
      "cell_type": "code",
      "source": [
        "plot('bbox_area_sum')"
      ],
      "metadata": {
        "id": "rPY00z4otdaK",
        "colab": {
          "base_uri": "https://localhost:8080/",
          "height": 291
        },
        "outputId": "aab32fdc-8683-48dd-b1e4-de8dfd5d7598"
      },
      "execution_count": null,
      "outputs": [
        {
          "output_type": "display_data",
          "data": {
            "text/plain": [
              "<Figure size 432x288 with 1 Axes>"
            ],
            "image/png": "[encoded data removed]"
          },
          "metadata": {
            "needs_background": "light"
          }
        }
      ]
    },
    {
      "cell_type": "code",
      "source": [
        "plot('extent_sum')"
      ],
      "metadata": {
        "id": "SHYVoKPltgmm",
        "colab": {
          "base_uri": "https://localhost:8080/",
          "height": 280
        },
        "outputId": "2861fbb3-e003-416e-8ef6-1c76f9fad3f0"
      },
      "execution_count": null,
      "outputs": [
        {
          "output_type": "display_data",
          "data": {
            "text/plain": [
              "<Figure size 432x288 with 1 Axes>"
            ],
            "image/png": "[encoded data removed]"
          },
          "metadata": {
            "needs_background": "light"
          }
        }
      ]
    },
    {
      "cell_type": "code",
      "source": [
        "plot('solidity_sum')"
      ],
      "metadata": {
        "id": "TyC-FW3Ztj8o",
        "colab": {
          "base_uri": "https://localhost:8080/",
          "height": 283
        },
        "outputId": "69d1f33b-9913-4dc3-ee52-be9702376885"
      },
      "execution_count": null,
      "outputs": [
        {
          "output_type": "display_data",
          "data": {
            "text/plain": [
              "<Figure size 432x288 with 1 Axes>"
            ],
            "image/png": "[encoded data removed]"
          },
          "metadata": {
            "needs_background": "light"
          }
        }
      ]
    },
    {
      "cell_type": "code",
      "source": [
        "plot('eccentricity_sum')"
      ],
      "metadata": {
        "id": "R04szP-_tphd",
        "colab": {
          "base_uri": "https://localhost:8080/",
          "height": 280
        },
        "outputId": "64a34e06-6a76-4752-84b4-54bfc9aabb45"
      },
      "execution_count": null,
      "outputs": [
        {
          "output_type": "display_data",
          "data": {
            "text/plain": [
              "<Figure size 432x288 with 1 Axes>"
            ],
            "image/png": "[encoded data removed]"
          },
          "metadata": {
            "needs_background": "light"
          }
        }
      ]
    },
    {
      "cell_type": "code",
      "source": [
        "plot('orientation_sum')"
      ],
      "metadata": {
        "id": "SEnSF_57ts-A",
        "colab": {
          "base_uri": "https://localhost:8080/",
          "height": 280
        },
        "outputId": "90b8ff4a-0f64-4b36-d355-f7c61b85a9e2"
      },
      "execution_count": null,
      "outputs": [
        {
          "output_type": "display_data",
          "data": {
            "text/plain": [
              "<Figure size 432x288 with 1 Axes>"
            ],
            "image/png": "[encoded data removed]"
          },
          "metadata": {
            "needs_background": "light"
          }
        }
      ]
    }
  ]
}