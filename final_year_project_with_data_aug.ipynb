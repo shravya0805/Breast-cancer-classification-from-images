{
  "cells": [
    {
      "cell_type": "markdown",
      "metadata": {
        "id": "view-in-github",
        "colab_type": "text"
      },
      "source": [
        "<a href=\"https://colab.research.google.com/github/shravya0805/Breast-cancer-classification-from-images/blob/main/final_year_project_with_data_aug.ipynb\" target=\"_parent\"><img src=\"https://colab.research.google.com/assets/colab-badge.svg\" alt=\"Open In Colab\"/></a>"
      ]
    },
    {
      "cell_type": "markdown",
      "source": [
        "# **Packages** **Imported**"
      ],
      "metadata": {
        "id": "zvCPN5tlR4dh"
      }
    },
    {
      "cell_type": "code",
      "execution_count": 1,
      "metadata": {
        "colab": {
          "base_uri": "https://localhost:8080/",
          "height": 0
        },
        "id": "N-eECRIe_241",
        "outputId": "dab140bb-255e-4b77-df02-437b82dbf224"
      },
      "outputs": [
        {
          "output_type": "stream",
          "name": "stdout",
          "text": [
            "Mounted at /content/gdrive\n"
          ]
        }
      ],
      "source": [
        "from google.colab import drive\n",
        "drive.mount('/content/gdrive')"
      ]
    },
    {
      "cell_type": "code",
      "execution_count": 20,
      "metadata": {
        "id": "xHvLL2q-xCE8"
      },
      "outputs": [],
      "source": [
        "from google.colab.patches import cv2_imshow"
      ]
    },
    {
      "cell_type": "code",
      "execution_count": 6,
      "metadata": {
        "id": "mUzB_dYwyrai"
      },
      "outputs": [],
      "source": [
        "import cv2\n",
        "import numpy as np\n",
        "from skimage.util import random_noise\n",
        "import os\n",
        "from keras.models import Model\n",
        "from keras.optimizers import Adam\n",
        "from keras.applications.vgg16 import VGG16, preprocess_input\n",
        "from keras.preprocessing.image import ImageDataGenerator\n",
        "from keras.callbacks import ModelCheckpoint, EarlyStopping\n",
        "from keras.layers import Dense, Dropout, Flatten\n",
        "from pathlib import Path\n",
        "import numpy as np"
      ]
    },
    {
      "cell_type": "code",
      "execution_count": 5,
      "metadata": {
        "id": "EneH_mf6RmxO"
      },
      "outputs": [],
      "source": [
        "import keras\n",
        "import keras.backend as K\n",
        "from keras.models import Model\n",
        "from keras.layers import Input, Dense, Conv2D, Conv3D, DepthwiseConv2D, SeparableConv2D, Conv3DTranspose,MaxPooling2D\n",
        "from keras.layers import Flatten, MaxPool2D, AvgPool2D, GlobalAvgPool2D, UpSampling2D, BatchNormalization\n",
        "from keras.layers import Concatenate, Add, Dropout, ReLU, Lambda, Activation, LeakyReLU, PReLU\n",
        "\n",
        "from IPython.display import SVG\n",
        "from keras.utils.vis_utils import model_to_dot\n",
        "import os\n",
        "from time import time\n",
        "import numpy as np"
      ]
    },
    {
      "cell_type": "markdown",
      "source": [
        "# **Adding** **Noise**"
      ],
      "metadata": {
        "id": "T9Wp_lUKRzSd"
      }
    },
    {
      "cell_type": "code",
      "execution_count": 5,
      "metadata": {
        "id": "R-usBOayxfe_"
      },
      "outputs": [],
      "source": [
        "def salt_pepper_noise(DIR,path):\n",
        "  count=0\n",
        "  for i in os.listdir(DIR):\n",
        "    image=cv2.imread(os.path.join(DIR, i))\n",
        "    noise_img = random_noise(image, mode='s&p',amount=0.3)\n",
        "    noise_img = np.array(255*noise_img, dtype = 'uint8')\n",
        "    cv2.imwrite(path+str(count)+'.png',noise_img) \n",
        "    count+=1\n",
        "\n"
      ]
    },
    {
      "cell_type": "code",
      "execution_count": null,
      "metadata": {
        "id": "lJEvS4nNyLt3"
      },
      "outputs": [],
      "source": [
        "salt_pepper_noise('/content/gdrive/MyDrive/Breast Cancer DataSet (1)/Train (1)/Benign (1)','/content/gdrive/MyDrive/Breast Cancer DataSet/Train/Benign/salt_pepper_noise')"
      ]
    },
    {
      "cell_type": "code",
      "execution_count": null,
      "metadata": {
        "id": "JPjipuCd-bl9"
      },
      "outputs": [],
      "source": [
        "salt_pepper_noise('/content/gdrive/MyDrive/Breast Cancer DataSet (1)/Train (1)/Malignant (1)','/content/gdrive/MyDrive/Breast Cancer DataSet/Train/Malignant/salt_pepper_noise')"
      ]
    },
    {
      "cell_type": "code",
      "execution_count": 6,
      "metadata": {
        "id": "ok64q7FrAU7B"
      },
      "outputs": [],
      "source": [
        "def Gaussian_noise(DIR,path):\n",
        "  c1=0\n",
        "  for i in os.listdir(DIR):\n",
        "    image=cv2.imread(os.path.join(DIR, i))\n",
        "    gauss = np.random.normal(0,1,image.size)\n",
        "    gauss = gauss.reshape(image.shape[0],image.shape[1],image.shape[2]).astype('uint8')\n",
        "    img_gauss = cv2.add(image,gauss)\n",
        "    cv2.imwrite(path+str(c1)+'.png',img_gauss) \n",
        "    c1+=1"
      ]
    },
    {
      "cell_type": "code",
      "execution_count": null,
      "metadata": {
        "id": "p2DhsytFA270"
      },
      "outputs": [],
      "source": [
        "Gaussian_noise('/content/gdrive/MyDrive/Breast Cancer DataSet (1)/Train (1)/Benign (1)','/content/gdrive/MyDrive/Breast Cancer DataSet/Train/Benign/Gaussian_noise')"
      ]
    },
    {
      "cell_type": "code",
      "execution_count": null,
      "metadata": {
        "id": "hyDoVbj3A2q6"
      },
      "outputs": [],
      "source": [
        "Gaussian_noise('/content/gdrive/MyDrive/Breast Cancer DataSet (1)/Train (1)/Malignant (1)','/content/gdrive/MyDrive/Breast Cancer DataSet/Train/Malignant/Gaussian_noise')"
      ]
    },
    {
      "cell_type": "code",
      "execution_count": 7,
      "metadata": {
        "id": "RolzDdoNElPI"
      },
      "outputs": [],
      "source": [
        "def speckle_noise(DIR,path):\n",
        "  c2=0\n",
        "  for i in os.listdir(DIR):\n",
        "    image=cv2.imread(os.path.join(DIR, i))\n",
        "    gauss = np.random.normal(0,1,image.size)\n",
        "    gauss = gauss.reshape(image.shape[0],image.shape[1],image.shape[2]).astype('uint8')\n",
        "    noise = image + image * gauss\n",
        "    cv2.imwrite(path+str(c2)+'.png',noise) \n",
        "    c2+=1"
      ]
    },
    {
      "cell_type": "code",
      "execution_count": null,
      "metadata": {
        "id": "Q8q7s9i6E2go"
      },
      "outputs": [],
      "source": [
        "speckle_noise('/content/gdrive/MyDrive/Breast Cancer DataSet (1)/Train (1)/Benign (1)','/content/gdrive/MyDrive/Breast Cancer DataSet/Train/Benign/speckle_noise')"
      ]
    },
    {
      "cell_type": "code",
      "execution_count": null,
      "metadata": {
        "id": "bHyBxB3LE1pG"
      },
      "outputs": [],
      "source": [
        "speckle_noise('/content/gdrive/MyDrive/Breast Cancer DataSet (1)/Train (1)/Malignant (1)','/content/gdrive/MyDrive/Breast Cancer DataSet/Train/Malignant/speckle_noise')"
      ]
    },
    {
      "cell_type": "markdown",
      "source": [
        "# **Loading** **DataSet**"
      ],
      "metadata": {
        "id": "MtalcZwjSCpx"
      }
    },
    {
      "cell_type": "code",
      "execution_count": 8,
      "metadata": {
        "id": "0mNI9Bxd_oRC"
      },
      "outputs": [],
      "source": [
        "import os\n",
        "import pandas as pd\n",
        "import numpy as np\n",
        "import matplotlib.pyplot as plt\n",
        "import seaborn as sns\n",
        "\n",
        "# Set the path to the dataset\n",
        "dataset_path = '/content/gdrive/MyDrive/Breast Cancer DataSet/Train'\n",
        "\n",
        "# Initialize empty lists for storing the images and labels\n",
        "images = []\n",
        "labels = []\n",
        "\n",
        "# Loop over the subfolders in the dataset\n",
        "for subfolder in os.listdir(dataset_path):\n",
        "  subfolder_path = os.path.join(dataset_path, subfolder)\n",
        "  if not os.path.isdir(subfolder_path):\n",
        "    continue\n",
        "  \n",
        "  # Loop over the images in the subfolder\n",
        "  for image_filename in os.listdir(subfolder_path):\n",
        "    # Load the image and store it in the images list\n",
        "    image_path = os.path.join(subfolder_path, image_filename)\n",
        "    images.append(image_path)\n",
        "    \n",
        "    # Store the label for the image in the labels list\n",
        "    labels.append(subfolder)\n",
        "\n",
        "# Create a pandas DataFrame from the images and labels\n",
        "df = pd.DataFrame({'image': images, 'label': labels})"
      ]
    },
    {
      "cell_type": "code",
      "execution_count": 9,
      "metadata": {
        "id": "WiJD9dM6AMbc"
      },
      "outputs": [],
      "source": [
        "# Set the path to the dataset\n",
        "dataset_path = '/content/gdrive/MyDrive/Breast Cancer DataSet/Test'\n",
        "\n",
        "# Initialize empty lists for storing the images and labels\n",
        "images = []\n",
        "labels = []\n",
        "\n",
        "# Loop over the subfolders in the dataset\n",
        "for subfolder in os.listdir(dataset_path):\n",
        "  subfolder_path = os.path.join(dataset_path, subfolder)\n",
        "  if not os.path.isdir(subfolder_path):\n",
        "    continue\n",
        "  \n",
        "  # Loop over the images in the subfolder\n",
        "  for image_filename in os.listdir(subfolder_path):\n",
        "    # Load the image and store it in the images list\n",
        "    image_path = os.path.join(subfolder_path, image_filename)\n",
        "    images.append(image_path)\n",
        "    \n",
        "    # Store the label for the image in the labels list\n",
        "    labels.append(subfolder)\n",
        "\n",
        "# Create a pandas DataFrame from the images and labels\n",
        "df1 = pd.DataFrame({'image': images, 'label': labels})"
      ]
    },
    {
      "cell_type": "code",
      "execution_count": 10,
      "metadata": {
        "colab": {
          "base_uri": "https://localhost:8080/",
          "height": 206
        },
        "id": "LmFx40ovAWE1",
        "outputId": "e9a0a49d-e3e0-412b-a046-a7389cf36cac"
      },
      "outputs": [
        {
          "output_type": "execute_result",
          "data": {
            "text/plain": [
              "                                                 image      label\n",
              "124  /content/gdrive/MyDrive/Breast Cancer DataSet/...  Malignant\n",
              "125  /content/gdrive/MyDrive/Breast Cancer DataSet/...  Malignant\n",
              "126  /content/gdrive/MyDrive/Breast Cancer DataSet/...  Malignant\n",
              "127  /content/gdrive/MyDrive/Breast Cancer DataSet/...  Malignant\n",
              "128  /content/gdrive/MyDrive/Breast Cancer DataSet/...  Malignant"
            ],
            "text/html": [
              "\n",
              "  <div id=\"df-f6846551-fe20-4f47-b73c-3ac0726f91b6\">\n",
              "    <div class=\"colab-df-container\">\n",
              "      <div>\n",
              "<style scoped>\n",
              "    .dataframe tbody tr th:only-of-type {\n",
              "        vertical-align: middle;\n",
              "    }\n",
              "\n",
              "    .dataframe tbody tr th {\n",
              "        vertical-align: top;\n",
              "    }\n",
              "\n",
              "    .dataframe thead th {\n",
              "        text-align: right;\n",
              "    }\n",
              "</style>\n",
              "<table border=\"1\" class=\"dataframe\">\n",
              "  <thead>\n",
              "    <tr style=\"text-align: right;\">\n",
              "      <th></th>\n",
              "      <th>image</th>\n",
              "      <th>label</th>\n",
              "    </tr>\n",
              "  </thead>\n",
              "  <tbody>\n",
              "    <tr>\n",
              "      <th>124</th>\n",
              "      <td>/content/gdrive/MyDrive/Breast Cancer DataSet/...</td>\n",
              "      <td>Malignant</td>\n",
              "    </tr>\n",
              "    <tr>\n",
              "      <th>125</th>\n",
              "      <td>/content/gdrive/MyDrive/Breast Cancer DataSet/...</td>\n",
              "      <td>Malignant</td>\n",
              "    </tr>\n",
              "    <tr>\n",
              "      <th>126</th>\n",
              "      <td>/content/gdrive/MyDrive/Breast Cancer DataSet/...</td>\n",
              "      <td>Malignant</td>\n",
              "    </tr>\n",
              "    <tr>\n",
              "      <th>127</th>\n",
              "      <td>/content/gdrive/MyDrive/Breast Cancer DataSet/...</td>\n",
              "      <td>Malignant</td>\n",
              "    </tr>\n",
              "    <tr>\n",
              "      <th>128</th>\n",
              "      <td>/content/gdrive/MyDrive/Breast Cancer DataSet/...</td>\n",
              "      <td>Malignant</td>\n",
              "    </tr>\n",
              "  </tbody>\n",
              "</table>\n",
              "</div>\n",
              "      <button class=\"colab-df-convert\" onclick=\"convertToInteractive('df-f6846551-fe20-4f47-b73c-3ac0726f91b6')\"\n",
              "              title=\"Convert this dataframe to an interactive table.\"\n",
              "              style=\"display:none;\">\n",
              "        \n",
              "  <svg xmlns=\"http://www.w3.org/2000/svg\" height=\"24px\"viewBox=\"0 0 24 24\"\n",
              "       width=\"24px\">\n",
              "    <path d=\"M0 0h24v24H0V0z\" fill=\"none\"/>\n",
              "    <path d=\"M18.56 5.44l.94 2.06.94-2.06 2.06-.94-2.06-.94-.94-2.06-.94 2.06-2.06.94zm-11 1L8.5 8.5l.94-2.06 2.06-.94-2.06-.94L8.5 2.5l-.94 2.06-2.06.94zm10 10l.94 2.06.94-2.06 2.06-.94-2.06-.94-.94-2.06-.94 2.06-2.06.94z\"/><path d=\"M17.41 7.96l-1.37-1.37c-.4-.4-.92-.59-1.43-.59-.52 0-1.04.2-1.43.59L10.3 9.45l-7.72 7.72c-.78.78-.78 2.05 0 2.83L4 21.41c.39.39.9.59 1.41.59.51 0 1.02-.2 1.41-.59l7.78-7.78 2.81-2.81c.8-.78.8-2.07 0-2.86zM5.41 20L4 18.59l7.72-7.72 1.47 1.35L5.41 20z\"/>\n",
              "  </svg>\n",
              "      </button>\n",
              "      \n",
              "  <style>\n",
              "    .colab-df-container {\n",
              "      display:flex;\n",
              "      flex-wrap:wrap;\n",
              "      gap: 12px;\n",
              "    }\n",
              "\n",
              "    .colab-df-convert {\n",
              "      background-color: #E8F0FE;\n",
              "      border: none;\n",
              "      border-radius: 50%;\n",
              "      cursor: pointer;\n",
              "      display: none;\n",
              "      fill: #1967D2;\n",
              "      height: 32px;\n",
              "      padding: 0 0 0 0;\n",
              "      width: 32px;\n",
              "    }\n",
              "\n",
              "    .colab-df-convert:hover {\n",
              "      background-color: #E2EBFA;\n",
              "      box-shadow: 0px 1px 2px rgba(60, 64, 67, 0.3), 0px 1px 3px 1px rgba(60, 64, 67, 0.15);\n",
              "      fill: #174EA6;\n",
              "    }\n",
              "\n",
              "    [theme=dark] .colab-df-convert {\n",
              "      background-color: #3B4455;\n",
              "      fill: #D2E3FC;\n",
              "    }\n",
              "\n",
              "    [theme=dark] .colab-df-convert:hover {\n",
              "      background-color: #434B5C;\n",
              "      box-shadow: 0px 1px 3px 1px rgba(0, 0, 0, 0.15);\n",
              "      filter: drop-shadow(0px 1px 2px rgba(0, 0, 0, 0.3));\n",
              "      fill: #FFFFFF;\n",
              "    }\n",
              "  </style>\n",
              "\n",
              "      <script>\n",
              "        const buttonEl =\n",
              "          document.querySelector('#df-f6846551-fe20-4f47-b73c-3ac0726f91b6 button.colab-df-convert');\n",
              "        buttonEl.style.display =\n",
              "          google.colab.kernel.accessAllowed ? 'block' : 'none';\n",
              "\n",
              "        async function convertToInteractive(key) {\n",
              "          const element = document.querySelector('#df-f6846551-fe20-4f47-b73c-3ac0726f91b6');\n",
              "          const dataTable =\n",
              "            await google.colab.kernel.invokeFunction('convertToInteractive',\n",
              "                                                     [key], {});\n",
              "          if (!dataTable) return;\n",
              "\n",
              "          const docLinkHtml = 'Like what you see? Visit the ' +\n",
              "            '<a target=\"_blank\" href=https://colab.research.google.com/notebooks/data_table.ipynb>data table notebook</a>'\n",
              "            + ' to learn more about interactive tables.';\n",
              "          element.innerHTML = '';\n",
              "          dataTable['output_type'] = 'display_data';\n",
              "          await google.colab.output.renderOutput(dataTable, element);\n",
              "          const docLink = document.createElement('div');\n",
              "          docLink.innerHTML = docLinkHtml;\n",
              "          element.appendChild(docLink);\n",
              "        }\n",
              "      </script>\n",
              "    </div>\n",
              "  </div>\n",
              "  "
            ]
          },
          "metadata": {},
          "execution_count": 10
        }
      ],
      "source": [
        "df1.tail()"
      ]
    },
    {
      "cell_type": "code",
      "execution_count": 11,
      "metadata": {
        "colab": {
          "base_uri": "https://localhost:8080/",
          "height": 206
        },
        "id": "qPs-moWXAC9s",
        "outputId": "362b4910-8a21-41d3-ddf8-a3c3b7641412"
      },
      "outputs": [
        {
          "output_type": "execute_result",
          "data": {
            "text/plain": [
              "                                                  image   label\n",
              "3983  /content/gdrive/MyDrive/Breast Cancer DataSet/...  Benign\n",
              "3984  /content/gdrive/MyDrive/Breast Cancer DataSet/...  Benign\n",
              "3985  /content/gdrive/MyDrive/Breast Cancer DataSet/...  Benign\n",
              "3986  /content/gdrive/MyDrive/Breast Cancer DataSet/...  Benign\n",
              "3987  /content/gdrive/MyDrive/Breast Cancer DataSet/...  Benign"
            ],
            "text/html": [
              "\n",
              "  <div id=\"df-5af69fda-898e-440f-af16-448373557fbf\">\n",
              "    <div class=\"colab-df-container\">\n",
              "      <div>\n",
              "<style scoped>\n",
              "    .dataframe tbody tr th:only-of-type {\n",
              "        vertical-align: middle;\n",
              "    }\n",
              "\n",
              "    .dataframe tbody tr th {\n",
              "        vertical-align: top;\n",
              "    }\n",
              "\n",
              "    .dataframe thead th {\n",
              "        text-align: right;\n",
              "    }\n",
              "</style>\n",
              "<table border=\"1\" class=\"dataframe\">\n",
              "  <thead>\n",
              "    <tr style=\"text-align: right;\">\n",
              "      <th></th>\n",
              "      <th>image</th>\n",
              "      <th>label</th>\n",
              "    </tr>\n",
              "  </thead>\n",
              "  <tbody>\n",
              "    <tr>\n",
              "      <th>3983</th>\n",
              "      <td>/content/gdrive/MyDrive/Breast Cancer DataSet/...</td>\n",
              "      <td>Benign</td>\n",
              "    </tr>\n",
              "    <tr>\n",
              "      <th>3984</th>\n",
              "      <td>/content/gdrive/MyDrive/Breast Cancer DataSet/...</td>\n",
              "      <td>Benign</td>\n",
              "    </tr>\n",
              "    <tr>\n",
              "      <th>3985</th>\n",
              "      <td>/content/gdrive/MyDrive/Breast Cancer DataSet/...</td>\n",
              "      <td>Benign</td>\n",
              "    </tr>\n",
              "    <tr>\n",
              "      <th>3986</th>\n",
              "      <td>/content/gdrive/MyDrive/Breast Cancer DataSet/...</td>\n",
              "      <td>Benign</td>\n",
              "    </tr>\n",
              "    <tr>\n",
              "      <th>3987</th>\n",
              "      <td>/content/gdrive/MyDrive/Breast Cancer DataSet/...</td>\n",
              "      <td>Benign</td>\n",
              "    </tr>\n",
              "  </tbody>\n",
              "</table>\n",
              "</div>\n",
              "      <button class=\"colab-df-convert\" onclick=\"convertToInteractive('df-5af69fda-898e-440f-af16-448373557fbf')\"\n",
              "              title=\"Convert this dataframe to an interactive table.\"\n",
              "              style=\"display:none;\">\n",
              "        \n",
              "  <svg xmlns=\"http://www.w3.org/2000/svg\" height=\"24px\"viewBox=\"0 0 24 24\"\n",
              "       width=\"24px\">\n",
              "    <path d=\"M0 0h24v24H0V0z\" fill=\"none\"/>\n",
              "    <path d=\"M18.56 5.44l.94 2.06.94-2.06 2.06-.94-2.06-.94-.94-2.06-.94 2.06-2.06.94zm-11 1L8.5 8.5l.94-2.06 2.06-.94-2.06-.94L8.5 2.5l-.94 2.06-2.06.94zm10 10l.94 2.06.94-2.06 2.06-.94-2.06-.94-.94-2.06-.94 2.06-2.06.94z\"/><path d=\"M17.41 7.96l-1.37-1.37c-.4-.4-.92-.59-1.43-.59-.52 0-1.04.2-1.43.59L10.3 9.45l-7.72 7.72c-.78.78-.78 2.05 0 2.83L4 21.41c.39.39.9.59 1.41.59.51 0 1.02-.2 1.41-.59l7.78-7.78 2.81-2.81c.8-.78.8-2.07 0-2.86zM5.41 20L4 18.59l7.72-7.72 1.47 1.35L5.41 20z\"/>\n",
              "  </svg>\n",
              "      </button>\n",
              "      \n",
              "  <style>\n",
              "    .colab-df-container {\n",
              "      display:flex;\n",
              "      flex-wrap:wrap;\n",
              "      gap: 12px;\n",
              "    }\n",
              "\n",
              "    .colab-df-convert {\n",
              "      background-color: #E8F0FE;\n",
              "      border: none;\n",
              "      border-radius: 50%;\n",
              "      cursor: pointer;\n",
              "      display: none;\n",
              "      fill: #1967D2;\n",
              "      height: 32px;\n",
              "      padding: 0 0 0 0;\n",
              "      width: 32px;\n",
              "    }\n",
              "\n",
              "    .colab-df-convert:hover {\n",
              "      background-color: #E2EBFA;\n",
              "      box-shadow: 0px 1px 2px rgba(60, 64, 67, 0.3), 0px 1px 3px 1px rgba(60, 64, 67, 0.15);\n",
              "      fill: #174EA6;\n",
              "    }\n",
              "\n",
              "    [theme=dark] .colab-df-convert {\n",
              "      background-color: #3B4455;\n",
              "      fill: #D2E3FC;\n",
              "    }\n",
              "\n",
              "    [theme=dark] .colab-df-convert:hover {\n",
              "      background-color: #434B5C;\n",
              "      box-shadow: 0px 1px 3px 1px rgba(0, 0, 0, 0.15);\n",
              "      filter: drop-shadow(0px 1px 2px rgba(0, 0, 0, 0.3));\n",
              "      fill: #FFFFFF;\n",
              "    }\n",
              "  </style>\n",
              "\n",
              "      <script>\n",
              "        const buttonEl =\n",
              "          document.querySelector('#df-5af69fda-898e-440f-af16-448373557fbf button.colab-df-convert');\n",
              "        buttonEl.style.display =\n",
              "          google.colab.kernel.accessAllowed ? 'block' : 'none';\n",
              "\n",
              "        async function convertToInteractive(key) {\n",
              "          const element = document.querySelector('#df-5af69fda-898e-440f-af16-448373557fbf');\n",
              "          const dataTable =\n",
              "            await google.colab.kernel.invokeFunction('convertToInteractive',\n",
              "                                                     [key], {});\n",
              "          if (!dataTable) return;\n",
              "\n",
              "          const docLinkHtml = 'Like what you see? Visit the ' +\n",
              "            '<a target=\"_blank\" href=https://colab.research.google.com/notebooks/data_table.ipynb>data table notebook</a>'\n",
              "            + ' to learn more about interactive tables.';\n",
              "          element.innerHTML = '';\n",
              "          dataTable['output_type'] = 'display_data';\n",
              "          await google.colab.output.renderOutput(dataTable, element);\n",
              "          const docLink = document.createElement('div');\n",
              "          docLink.innerHTML = docLinkHtml;\n",
              "          element.appendChild(docLink);\n",
              "        }\n",
              "      </script>\n",
              "    </div>\n",
              "  </div>\n",
              "  "
            ]
          },
          "metadata": {},
          "execution_count": 11
        }
      ],
      "source": [
        "df.tail()"
      ]
    },
    {
      "cell_type": "code",
      "execution_count": 12,
      "metadata": {
        "id": "wRkLGQ-NDi-9"
      },
      "outputs": [],
      "source": [
        "from sklearn.model_selection import train_test_split\n",
        "from sklearn.preprocessing import LabelEncoder\n",
        "# Split the data into training and testing sets\n",
        "X_train=df['image']\n",
        "X_test=df1['image']\n",
        "y_train=df['label']\n",
        "y_test=df1['label']\n",
        "\n",
        "\n",
        "# Create a dataframe for the training data\n",
        "df_train = pd.DataFrame({'image': X_train, 'label': y_train})\n",
        "\n",
        "# Create a dataframe for the test data\n",
        "df_test = pd.DataFrame({'image': X_test, 'label': y_test})\n",
        "\n",
        "# Encode the labels\n",
        "encoder = LabelEncoder()\n",
        "y_train = encoder.fit_transform(y_train)\n",
        "y_test = encoder.transform(y_test)"
      ]
    },
    {
      "cell_type": "code",
      "execution_count": 13,
      "metadata": {
        "id": "tKK5EHP8-MyW"
      },
      "outputs": [],
      "source": [
        "df_train = df_train.sample(frac = 1)"
      ]
    },
    {
      "cell_type": "code",
      "execution_count": 14,
      "metadata": {
        "id": "i-tXFlcv-NL0"
      },
      "outputs": [],
      "source": [
        "df_test = df_test.sample(frac = 1)"
      ]
    },
    {
      "cell_type": "code",
      "execution_count": 15,
      "metadata": {
        "colab": {
          "base_uri": "https://localhost:8080/",
          "height": 423
        },
        "id": "e6cvDYCVEdd0",
        "outputId": "bfcc38a4-7545-4f66-c2f3-042efc29e7d2"
      },
      "outputs": [
        {
          "output_type": "execute_result",
          "data": {
            "text/plain": [
              "                                                  image      label\n",
              "0     /content/gdrive/MyDrive/Breast Cancer DataSet/...     Benign\n",
              "1     /content/gdrive/MyDrive/Breast Cancer DataSet/...  Malignant\n",
              "2     /content/gdrive/MyDrive/Breast Cancer DataSet/...  Malignant\n",
              "3     /content/gdrive/MyDrive/Breast Cancer DataSet/...  Malignant\n",
              "4     /content/gdrive/MyDrive/Breast Cancer DataSet/...  Malignant\n",
              "...                                                 ...        ...\n",
              "3983  /content/gdrive/MyDrive/Breast Cancer DataSet/...     Benign\n",
              "3984  /content/gdrive/MyDrive/Breast Cancer DataSet/...  Malignant\n",
              "3985  /content/gdrive/MyDrive/Breast Cancer DataSet/...     Benign\n",
              "3986  /content/gdrive/MyDrive/Breast Cancer DataSet/...  Malignant\n",
              "3987  /content/gdrive/MyDrive/Breast Cancer DataSet/...     Benign\n",
              "\n",
              "[3988 rows x 2 columns]"
            ],
            "text/html": [
              "\n",
              "  <div id=\"df-f8277538-24ec-4780-ac13-6b948c9e3802\">\n",
              "    <div class=\"colab-df-container\">\n",
              "      <div>\n",
              "<style scoped>\n",
              "    .dataframe tbody tr th:only-of-type {\n",
              "        vertical-align: middle;\n",
              "    }\n",
              "\n",
              "    .dataframe tbody tr th {\n",
              "        vertical-align: top;\n",
              "    }\n",
              "\n",
              "    .dataframe thead th {\n",
              "        text-align: right;\n",
              "    }\n",
              "</style>\n",
              "<table border=\"1\" class=\"dataframe\">\n",
              "  <thead>\n",
              "    <tr style=\"text-align: right;\">\n",
              "      <th></th>\n",
              "      <th>image</th>\n",
              "      <th>label</th>\n",
              "    </tr>\n",
              "  </thead>\n",
              "  <tbody>\n",
              "    <tr>\n",
              "      <th>0</th>\n",
              "      <td>/content/gdrive/MyDrive/Breast Cancer DataSet/...</td>\n",
              "      <td>Benign</td>\n",
              "    </tr>\n",
              "    <tr>\n",
              "      <th>1</th>\n",
              "      <td>/content/gdrive/MyDrive/Breast Cancer DataSet/...</td>\n",
              "      <td>Malignant</td>\n",
              "    </tr>\n",
              "    <tr>\n",
              "      <th>2</th>\n",
              "      <td>/content/gdrive/MyDrive/Breast Cancer DataSet/...</td>\n",
              "      <td>Malignant</td>\n",
              "    </tr>\n",
              "    <tr>\n",
              "      <th>3</th>\n",
              "      <td>/content/gdrive/MyDrive/Breast Cancer DataSet/...</td>\n",
              "      <td>Malignant</td>\n",
              "    </tr>\n",
              "    <tr>\n",
              "      <th>4</th>\n",
              "      <td>/content/gdrive/MyDrive/Breast Cancer DataSet/...</td>\n",
              "      <td>Malignant</td>\n",
              "    </tr>\n",
              "    <tr>\n",
              "      <th>...</th>\n",
              "      <td>...</td>\n",
              "      <td>...</td>\n",
              "    </tr>\n",
              "    <tr>\n",
              "      <th>3983</th>\n",
              "      <td>/content/gdrive/MyDrive/Breast Cancer DataSet/...</td>\n",
              "      <td>Benign</td>\n",
              "    </tr>\n",
              "    <tr>\n",
              "      <th>3984</th>\n",
              "      <td>/content/gdrive/MyDrive/Breast Cancer DataSet/...</td>\n",
              "      <td>Malignant</td>\n",
              "    </tr>\n",
              "    <tr>\n",
              "      <th>3985</th>\n",
              "      <td>/content/gdrive/MyDrive/Breast Cancer DataSet/...</td>\n",
              "      <td>Benign</td>\n",
              "    </tr>\n",
              "    <tr>\n",
              "      <th>3986</th>\n",
              "      <td>/content/gdrive/MyDrive/Breast Cancer DataSet/...</td>\n",
              "      <td>Malignant</td>\n",
              "    </tr>\n",
              "    <tr>\n",
              "      <th>3987</th>\n",
              "      <td>/content/gdrive/MyDrive/Breast Cancer DataSet/...</td>\n",
              "      <td>Benign</td>\n",
              "    </tr>\n",
              "  </tbody>\n",
              "</table>\n",
              "<p>3988 rows × 2 columns</p>\n",
              "</div>\n",
              "      <button class=\"colab-df-convert\" onclick=\"convertToInteractive('df-f8277538-24ec-4780-ac13-6b948c9e3802')\"\n",
              "              title=\"Convert this dataframe to an interactive table.\"\n",
              "              style=\"display:none;\">\n",
              "        \n",
              "  <svg xmlns=\"http://www.w3.org/2000/svg\" height=\"24px\"viewBox=\"0 0 24 24\"\n",
              "       width=\"24px\">\n",
              "    <path d=\"M0 0h24v24H0V0z\" fill=\"none\"/>\n",
              "    <path d=\"M18.56 5.44l.94 2.06.94-2.06 2.06-.94-2.06-.94-.94-2.06-.94 2.06-2.06.94zm-11 1L8.5 8.5l.94-2.06 2.06-.94-2.06-.94L8.5 2.5l-.94 2.06-2.06.94zm10 10l.94 2.06.94-2.06 2.06-.94-2.06-.94-.94-2.06-.94 2.06-2.06.94z\"/><path d=\"M17.41 7.96l-1.37-1.37c-.4-.4-.92-.59-1.43-.59-.52 0-1.04.2-1.43.59L10.3 9.45l-7.72 7.72c-.78.78-.78 2.05 0 2.83L4 21.41c.39.39.9.59 1.41.59.51 0 1.02-.2 1.41-.59l7.78-7.78 2.81-2.81c.8-.78.8-2.07 0-2.86zM5.41 20L4 18.59l7.72-7.72 1.47 1.35L5.41 20z\"/>\n",
              "  </svg>\n",
              "      </button>\n",
              "      \n",
              "  <style>\n",
              "    .colab-df-container {\n",
              "      display:flex;\n",
              "      flex-wrap:wrap;\n",
              "      gap: 12px;\n",
              "    }\n",
              "\n",
              "    .colab-df-convert {\n",
              "      background-color: #E8F0FE;\n",
              "      border: none;\n",
              "      border-radius: 50%;\n",
              "      cursor: pointer;\n",
              "      display: none;\n",
              "      fill: #1967D2;\n",
              "      height: 32px;\n",
              "      padding: 0 0 0 0;\n",
              "      width: 32px;\n",
              "    }\n",
              "\n",
              "    .colab-df-convert:hover {\n",
              "      background-color: #E2EBFA;\n",
              "      box-shadow: 0px 1px 2px rgba(60, 64, 67, 0.3), 0px 1px 3px 1px rgba(60, 64, 67, 0.15);\n",
              "      fill: #174EA6;\n",
              "    }\n",
              "\n",
              "    [theme=dark] .colab-df-convert {\n",
              "      background-color: #3B4455;\n",
              "      fill: #D2E3FC;\n",
              "    }\n",
              "\n",
              "    [theme=dark] .colab-df-convert:hover {\n",
              "      background-color: #434B5C;\n",
              "      box-shadow: 0px 1px 3px 1px rgba(0, 0, 0, 0.15);\n",
              "      filter: drop-shadow(0px 1px 2px rgba(0, 0, 0, 0.3));\n",
              "      fill: #FFFFFF;\n",
              "    }\n",
              "  </style>\n",
              "\n",
              "      <script>\n",
              "        const buttonEl =\n",
              "          document.querySelector('#df-f8277538-24ec-4780-ac13-6b948c9e3802 button.colab-df-convert');\n",
              "        buttonEl.style.display =\n",
              "          google.colab.kernel.accessAllowed ? 'block' : 'none';\n",
              "\n",
              "        async function convertToInteractive(key) {\n",
              "          const element = document.querySelector('#df-f8277538-24ec-4780-ac13-6b948c9e3802');\n",
              "          const dataTable =\n",
              "            await google.colab.kernel.invokeFunction('convertToInteractive',\n",
              "                                                     [key], {});\n",
              "          if (!dataTable) return;\n",
              "\n",
              "          const docLinkHtml = 'Like what you see? Visit the ' +\n",
              "            '<a target=\"_blank\" href=https://colab.research.google.com/notebooks/data_table.ipynb>data table notebook</a>'\n",
              "            + ' to learn more about interactive tables.';\n",
              "          element.innerHTML = '';\n",
              "          dataTable['output_type'] = 'display_data';\n",
              "          await google.colab.output.renderOutput(dataTable, element);\n",
              "          const docLink = document.createElement('div');\n",
              "          docLink.innerHTML = docLinkHtml;\n",
              "          element.appendChild(docLink);\n",
              "        }\n",
              "      </script>\n",
              "    </div>\n",
              "  </div>\n",
              "  "
            ]
          },
          "metadata": {},
          "execution_count": 15
        }
      ],
      "source": [
        "df_train.reset_index(drop=True)"
      ]
    },
    {
      "cell_type": "code",
      "execution_count": 16,
      "metadata": {
        "colab": {
          "base_uri": "https://localhost:8080/",
          "height": 423
        },
        "id": "T_-JICKvGItL",
        "outputId": "bb7c4a39-c047-4f0d-e682-f246b7b6ff78"
      },
      "outputs": [
        {
          "output_type": "execute_result",
          "data": {
            "text/plain": [
              "                                                 image      label\n",
              "0    /content/gdrive/MyDrive/Breast Cancer DataSet/...  Malignant\n",
              "1    /content/gdrive/MyDrive/Breast Cancer DataSet/...  Malignant\n",
              "2    /content/gdrive/MyDrive/Breast Cancer DataSet/...  Malignant\n",
              "3    /content/gdrive/MyDrive/Breast Cancer DataSet/...     Benign\n",
              "4    /content/gdrive/MyDrive/Breast Cancer DataSet/...  Malignant\n",
              "..                                                 ...        ...\n",
              "124  /content/gdrive/MyDrive/Breast Cancer DataSet/...     Benign\n",
              "125  /content/gdrive/MyDrive/Breast Cancer DataSet/...  Malignant\n",
              "126  /content/gdrive/MyDrive/Breast Cancer DataSet/...     Benign\n",
              "127  /content/gdrive/MyDrive/Breast Cancer DataSet/...  Malignant\n",
              "128  /content/gdrive/MyDrive/Breast Cancer DataSet/...  Malignant\n",
              "\n",
              "[129 rows x 2 columns]"
            ],
            "text/html": [
              "\n",
              "  <div id=\"df-5fa21afd-e699-437b-9369-9e72ce887a31\">\n",
              "    <div class=\"colab-df-container\">\n",
              "      <div>\n",
              "<style scoped>\n",
              "    .dataframe tbody tr th:only-of-type {\n",
              "        vertical-align: middle;\n",
              "    }\n",
              "\n",
              "    .dataframe tbody tr th {\n",
              "        vertical-align: top;\n",
              "    }\n",
              "\n",
              "    .dataframe thead th {\n",
              "        text-align: right;\n",
              "    }\n",
              "</style>\n",
              "<table border=\"1\" class=\"dataframe\">\n",
              "  <thead>\n",
              "    <tr style=\"text-align: right;\">\n",
              "      <th></th>\n",
              "      <th>image</th>\n",
              "      <th>label</th>\n",
              "    </tr>\n",
              "  </thead>\n",
              "  <tbody>\n",
              "    <tr>\n",
              "      <th>0</th>\n",
              "      <td>/content/gdrive/MyDrive/Breast Cancer DataSet/...</td>\n",
              "      <td>Malignant</td>\n",
              "    </tr>\n",
              "    <tr>\n",
              "      <th>1</th>\n",
              "      <td>/content/gdrive/MyDrive/Breast Cancer DataSet/...</td>\n",
              "      <td>Malignant</td>\n",
              "    </tr>\n",
              "    <tr>\n",
              "      <th>2</th>\n",
              "      <td>/content/gdrive/MyDrive/Breast Cancer DataSet/...</td>\n",
              "      <td>Malignant</td>\n",
              "    </tr>\n",
              "    <tr>\n",
              "      <th>3</th>\n",
              "      <td>/content/gdrive/MyDrive/Breast Cancer DataSet/...</td>\n",
              "      <td>Benign</td>\n",
              "    </tr>\n",
              "    <tr>\n",
              "      <th>4</th>\n",
              "      <td>/content/gdrive/MyDrive/Breast Cancer DataSet/...</td>\n",
              "      <td>Malignant</td>\n",
              "    </tr>\n",
              "    <tr>\n",
              "      <th>...</th>\n",
              "      <td>...</td>\n",
              "      <td>...</td>\n",
              "    </tr>\n",
              "    <tr>\n",
              "      <th>124</th>\n",
              "      <td>/content/gdrive/MyDrive/Breast Cancer DataSet/...</td>\n",
              "      <td>Benign</td>\n",
              "    </tr>\n",
              "    <tr>\n",
              "      <th>125</th>\n",
              "      <td>/content/gdrive/MyDrive/Breast Cancer DataSet/...</td>\n",
              "      <td>Malignant</td>\n",
              "    </tr>\n",
              "    <tr>\n",
              "      <th>126</th>\n",
              "      <td>/content/gdrive/MyDrive/Breast Cancer DataSet/...</td>\n",
              "      <td>Benign</td>\n",
              "    </tr>\n",
              "    <tr>\n",
              "      <th>127</th>\n",
              "      <td>/content/gdrive/MyDrive/Breast Cancer DataSet/...</td>\n",
              "      <td>Malignant</td>\n",
              "    </tr>\n",
              "    <tr>\n",
              "      <th>128</th>\n",
              "      <td>/content/gdrive/MyDrive/Breast Cancer DataSet/...</td>\n",
              "      <td>Malignant</td>\n",
              "    </tr>\n",
              "  </tbody>\n",
              "</table>\n",
              "<p>129 rows × 2 columns</p>\n",
              "</div>\n",
              "      <button class=\"colab-df-convert\" onclick=\"convertToInteractive('df-5fa21afd-e699-437b-9369-9e72ce887a31')\"\n",
              "              title=\"Convert this dataframe to an interactive table.\"\n",
              "              style=\"display:none;\">\n",
              "        \n",
              "  <svg xmlns=\"http://www.w3.org/2000/svg\" height=\"24px\"viewBox=\"0 0 24 24\"\n",
              "       width=\"24px\">\n",
              "    <path d=\"M0 0h24v24H0V0z\" fill=\"none\"/>\n",
              "    <path d=\"M18.56 5.44l.94 2.06.94-2.06 2.06-.94-2.06-.94-.94-2.06-.94 2.06-2.06.94zm-11 1L8.5 8.5l.94-2.06 2.06-.94-2.06-.94L8.5 2.5l-.94 2.06-2.06.94zm10 10l.94 2.06.94-2.06 2.06-.94-2.06-.94-.94-2.06-.94 2.06-2.06.94z\"/><path d=\"M17.41 7.96l-1.37-1.37c-.4-.4-.92-.59-1.43-.59-.52 0-1.04.2-1.43.59L10.3 9.45l-7.72 7.72c-.78.78-.78 2.05 0 2.83L4 21.41c.39.39.9.59 1.41.59.51 0 1.02-.2 1.41-.59l7.78-7.78 2.81-2.81c.8-.78.8-2.07 0-2.86zM5.41 20L4 18.59l7.72-7.72 1.47 1.35L5.41 20z\"/>\n",
              "  </svg>\n",
              "      </button>\n",
              "      \n",
              "  <style>\n",
              "    .colab-df-container {\n",
              "      display:flex;\n",
              "      flex-wrap:wrap;\n",
              "      gap: 12px;\n",
              "    }\n",
              "\n",
              "    .colab-df-convert {\n",
              "      background-color: #E8F0FE;\n",
              "      border: none;\n",
              "      border-radius: 50%;\n",
              "      cursor: pointer;\n",
              "      display: none;\n",
              "      fill: #1967D2;\n",
              "      height: 32px;\n",
              "      padding: 0 0 0 0;\n",
              "      width: 32px;\n",
              "    }\n",
              "\n",
              "    .colab-df-convert:hover {\n",
              "      background-color: #E2EBFA;\n",
              "      box-shadow: 0px 1px 2px rgba(60, 64, 67, 0.3), 0px 1px 3px 1px rgba(60, 64, 67, 0.15);\n",
              "      fill: #174EA6;\n",
              "    }\n",
              "\n",
              "    [theme=dark] .colab-df-convert {\n",
              "      background-color: #3B4455;\n",
              "      fill: #D2E3FC;\n",
              "    }\n",
              "\n",
              "    [theme=dark] .colab-df-convert:hover {\n",
              "      background-color: #434B5C;\n",
              "      box-shadow: 0px 1px 3px 1px rgba(0, 0, 0, 0.15);\n",
              "      filter: drop-shadow(0px 1px 2px rgba(0, 0, 0, 0.3));\n",
              "      fill: #FFFFFF;\n",
              "    }\n",
              "  </style>\n",
              "\n",
              "      <script>\n",
              "        const buttonEl =\n",
              "          document.querySelector('#df-5fa21afd-e699-437b-9369-9e72ce887a31 button.colab-df-convert');\n",
              "        buttonEl.style.display =\n",
              "          google.colab.kernel.accessAllowed ? 'block' : 'none';\n",
              "\n",
              "        async function convertToInteractive(key) {\n",
              "          const element = document.querySelector('#df-5fa21afd-e699-437b-9369-9e72ce887a31');\n",
              "          const dataTable =\n",
              "            await google.colab.kernel.invokeFunction('convertToInteractive',\n",
              "                                                     [key], {});\n",
              "          if (!dataTable) return;\n",
              "\n",
              "          const docLinkHtml = 'Like what you see? Visit the ' +\n",
              "            '<a target=\"_blank\" href=https://colab.research.google.com/notebooks/data_table.ipynb>data table notebook</a>'\n",
              "            + ' to learn more about interactive tables.';\n",
              "          element.innerHTML = '';\n",
              "          dataTable['output_type'] = 'display_data';\n",
              "          await google.colab.output.renderOutput(dataTable, element);\n",
              "          const docLink = document.createElement('div');\n",
              "          docLink.innerHTML = docLinkHtml;\n",
              "          element.appendChild(docLink);\n",
              "        }\n",
              "      </script>\n",
              "    </div>\n",
              "  </div>\n",
              "  "
            ]
          },
          "metadata": {},
          "execution_count": 16
        }
      ],
      "source": [
        "df_test.reset_index(drop=True)"
      ]
    },
    {
      "cell_type": "code",
      "execution_count": 17,
      "metadata": {
        "colab": {
          "base_uri": "https://localhost:8080/",
          "height": 0
        },
        "id": "WM-QVid9EV1p",
        "outputId": "78cab931-1d55-45a2-dd0c-25cbaa2b8204"
      },
      "outputs": [
        {
          "output_type": "stream",
          "name": "stdout",
          "text": [
            "3988\n"
          ]
        }
      ],
      "source": [
        "print(len(df_train))"
      ]
    },
    {
      "cell_type": "code",
      "execution_count": 18,
      "metadata": {
        "colab": {
          "base_uri": "https://localhost:8080/",
          "height": 0
        },
        "id": "18XuDo6kEVs1",
        "outputId": "2c763c69-c7eb-4a24-ab6e-ab9ee7e1b0f5"
      },
      "outputs": [
        {
          "output_type": "stream",
          "name": "stdout",
          "text": [
            "129\n"
          ]
        }
      ],
      "source": [
        "print(len(df_test))"
      ]
    },
    {
      "cell_type": "markdown",
      "source": [
        "# **Data** **Augmentation**"
      ],
      "metadata": {
        "id": "F8ysSL-ESKxb"
      }
    },
    {
      "cell_type": "code",
      "execution_count": 19,
      "metadata": {
        "colab": {
          "base_uri": "https://localhost:8080/",
          "height": 0
        },
        "id": "kWHC6Uc3DueU",
        "outputId": "7b83790d-a0f7-43f9-fb2e-c42eb0798685"
      },
      "outputs": [
        {
          "output_type": "stream",
          "name": "stdout",
          "text": [
            "Found 3988 validated image filenames belonging to 2 classes.\n",
            "Found 129 validated image filenames belonging to 2 classes.\n"
          ]
        }
      ],
      "source": [
        "from keras.preprocessing.image import ImageDataGenerator\n",
        "# Set the image size and batch size\n",
        "image_size = (227, 227)\n",
        "batch_size = 32\n",
        "\n",
        "# Create an ImageDataGenerator object with data augmentation options for image preprocessing\n",
        "datagen = ImageDataGenerator(\n",
        "    rescale=1./255,\n",
        "    rotation_range=45,\n",
        "    width_shift_range=0.2,\n",
        "    height_shift_range=0.2,\n",
        "    shear_range=0.2,\n",
        "    zoom_range=0.2,\n",
        "    horizontal_flip=True,\n",
        "    vertical_flip=True,\n",
        "    fill_mode='nearest'\n",
        ")\n",
        "\n",
        "\n",
        "# Create a generator for the training data\n",
        "train_generator = datagen.flow_from_dataframe(\n",
        "    df_train,\n",
        "    x_col='image',\n",
        "    y_col='label',\n",
        "    target_size=image_size,\n",
        "    batch_size=batch_size,\n",
        "    class_mode='categorical',\n",
        "    shuffle=True,\n",
        "    color_mode = 'rgb'\n",
        ")\n",
        "\n",
        "# Create a generator for the test data\n",
        "test_generator = datagen.flow_from_dataframe(\n",
        "    df_test,\n",
        "    x_col='image',\n",
        "    y_col='label',\n",
        "    target_size=image_size,\n",
        "    batch_size=batch_size,\n",
        "    class_mode='categorical',\n",
        "    shuffle=False,\n",
        "    color_mode = 'rgb'\n",
        ")"
      ]
    },
    {
      "cell_type": "markdown",
      "source": [
        "# **Alex**  **Net**"
      ],
      "metadata": {
        "id": "gscJbdnBRkxl"
      }
    },
    {
      "cell_type": "code",
      "execution_count": 21,
      "metadata": {
        "id": "jOMdQFq9DNNi"
      },
      "outputs": [],
      "source": [
        "def AlexNet(input_shape):\n",
        "    \n",
        "    X_input = Input(input_shape)\n",
        "    \n",
        "    X = Conv2D(96,(11,11),strides = 4,name=\"conv0\")(X_input)\n",
        "    X = BatchNormalization(axis = 3 , name = \"bn0\")(X)\n",
        "    X = Activation('relu')(X)\n",
        "    \n",
        "    X = MaxPooling2D((3,3),strides = 2,name = 'max0')(X)\n",
        "    \n",
        "    X = Conv2D(256,(5,5),padding = 'same' , name = 'conv1')(X)\n",
        "    X = BatchNormalization(axis = 3 ,name='bn1')(X)\n",
        "    X = Activation('relu')(X)\n",
        "    \n",
        "    X = MaxPooling2D((3,3),strides = 2,name = 'max1')(X)\n",
        "    \n",
        "    X = Conv2D(384, (3,3) , padding = 'same' , name='conv2')(X)\n",
        "    X = BatchNormalization(axis = 3, name = 'bn2')(X)\n",
        "    X = Activation('relu')(X)\n",
        "    \n",
        "    X = Conv2D(384, (3,3) , padding = 'same' , name='conv3')(X)\n",
        "    X = BatchNormalization(axis = 3, name = 'bn3')(X)\n",
        "    X = Activation('relu')(X)\n",
        "    \n",
        "    X = Conv2D(256, (3,3) , padding = 'same' , name='conv4')(X)\n",
        "    X = BatchNormalization(axis = 3, name = 'bn4')(X)\n",
        "    X = Activation('relu')(X)\n",
        "    \n",
        "    X = MaxPooling2D((3,3),strides = 2,name = 'max2')(X)\n",
        "    \n",
        "    X = Flatten()(X)\n",
        "    \n",
        "    X = Dense(4096, activation = 'relu', name = \"fc0\")(X)\n",
        "    X=  Dropout(0.5 ,name=\"d0\")(X)\n",
        "    X = Dense(4096, activation = 'relu', name = 'fc1')(X) \n",
        "    X=  Dropout(0.5,name=\"d1\")(X)\n",
        "    X = Dense(2,activation='softmax',name = 'fc2')(X)\n",
        "    \n",
        "    model = Model(inputs = X_input, outputs = X, name='AlexNet')\n",
        "    return model"
      ]
    },
    {
      "cell_type": "code",
      "execution_count": 22,
      "metadata": {
        "id": "CJN5wppWDQhG"
      },
      "outputs": [],
      "source": [
        "alex = AlexNet(train_generator[0][0].shape[1:])"
      ]
    },
    {
      "cell_type": "code",
      "execution_count": 23,
      "metadata": {
        "colab": {
          "base_uri": "https://localhost:8080/",
          "height": 0
        },
        "id": "pZMxfOGjDRTH",
        "outputId": "a2642b63-7b30-4928-9d7b-36c2d45eed21"
      },
      "outputs": [
        {
          "output_type": "stream",
          "name": "stdout",
          "text": [
            "Model: \"AlexNet\"\n",
            "_________________________________________________________________\n",
            " Layer (type)                Output Shape              Param #   \n",
            "=================================================================\n",
            " input_1 (InputLayer)        [(None, 227, 227, 3)]     0         \n",
            "                                                                 \n",
            " conv0 (Conv2D)              (None, 55, 55, 96)        34944     \n",
            "                                                                 \n",
            " bn0 (BatchNormalization)    (None, 55, 55, 96)        384       \n",
            "                                                                 \n",
            " activation (Activation)     (None, 55, 55, 96)        0         \n",
            "                                                                 \n",
            " max0 (MaxPooling2D)         (None, 27, 27, 96)        0         \n",
            "                                                                 \n",
            " conv1 (Conv2D)              (None, 27, 27, 256)       614656    \n",
            "                                                                 \n",
            " bn1 (BatchNormalization)    (None, 27, 27, 256)       1024      \n",
            "                                                                 \n",
            " activation_1 (Activation)   (None, 27, 27, 256)       0         \n",
            "                                                                 \n",
            " max1 (MaxPooling2D)         (None, 13, 13, 256)       0         \n",
            "                                                                 \n",
            " conv2 (Conv2D)              (None, 13, 13, 384)       885120    \n",
            "                                                                 \n",
            " bn2 (BatchNormalization)    (None, 13, 13, 384)       1536      \n",
            "                                                                 \n",
            " activation_2 (Activation)   (None, 13, 13, 384)       0         \n",
            "                                                                 \n",
            " conv3 (Conv2D)              (None, 13, 13, 384)       1327488   \n",
            "                                                                 \n",
            " bn3 (BatchNormalization)    (None, 13, 13, 384)       1536      \n",
            "                                                                 \n",
            " activation_3 (Activation)   (None, 13, 13, 384)       0         \n",
            "                                                                 \n",
            " conv4 (Conv2D)              (None, 13, 13, 256)       884992    \n",
            "                                                                 \n",
            " bn4 (BatchNormalization)    (None, 13, 13, 256)       1024      \n",
            "                                                                 \n",
            " activation_4 (Activation)   (None, 13, 13, 256)       0         \n",
            "                                                                 \n",
            " max2 (MaxPooling2D)         (None, 6, 6, 256)         0         \n",
            "                                                                 \n",
            " flatten (Flatten)           (None, 9216)              0         \n",
            "                                                                 \n",
            " fc0 (Dense)                 (None, 4096)              37752832  \n",
            "                                                                 \n",
            " fc1 (Dense)                 (None, 4096)              16781312  \n",
            "                                                                 \n",
            " fc2 (Dense)                 (None, 2)                 8194      \n",
            "                                                                 \n",
            "=================================================================\n",
            "Total params: 58,295,042\n",
            "Trainable params: 58,292,290\n",
            "Non-trainable params: 2,752\n",
            "_________________________________________________________________\n"
          ]
        }
      ],
      "source": [
        "alex.summary()"
      ]
    },
    {
      "cell_type": "code",
      "execution_count": 25,
      "metadata": {
        "id": "_HF0JJtHDT8Q"
      },
      "outputs": [],
      "source": [
        "alex.compile(optimizer = 'adam' , loss = 'categorical_crossentropy' , metrics=['accuracy'])"
      ]
    },
    {
      "cell_type": "code",
      "source": [
        "# ModelCheckpoint callback - save best weights\n",
        "from keras.callbacks import ModelCheckpoint, EarlyStopping\n",
        "tl_checkpoint_1 = ModelCheckpoint(filepath='tl_model_v1.weights.best.hdf5',\n",
        "                                  save_best_only=True,\n",
        "                                  monitor='val_accuracy', mode='max',\n",
        "                                  verbose=1)\n",
        "\n",
        "# EarlyStopping\n",
        "early_stop = EarlyStopping(monitor='val_loss',\n",
        "                           patience=10,\n",
        "                           restore_best_weights=True,\n",
        "                           mode='min')"
      ],
      "metadata": {
        "id": "Jfnm7f2Mp2Ft"
      },
      "execution_count": 27,
      "outputs": []
    },
    {
      "cell_type": "code",
      "execution_count": 29,
      "metadata": {
        "colab": {
          "base_uri": "https://localhost:8080/"
        },
        "id": "TXc5IJh9DayX",
        "outputId": "8d520cef-4ff1-4e54-efb3-d9671f7fb6a0"
      },
      "outputs": [
        {
          "output_type": "stream",
          "name": "stdout",
          "text": [
            "Epoch 1/20\n",
            "125/125 [==============================] - ETA: 0s - loss: 3.5485 - accuracy: 0.6866\n",
            "Epoch 1: val_loss improved from inf to 0.28256, saving model to tl_model_v1.weights.best.hdf5\n",
            "125/125 [==============================] - 818s 6s/step - loss: 3.5485 - accuracy: 0.6866 - val_loss: 0.2826 - val_accuracy: 0.8992\n",
            "Epoch 2/20\n",
            "125/125 [==============================] - ETA: 0s - loss: 0.5255 - accuracy: 0.7613\n",
            "Epoch 2: val_loss did not improve from 0.28256\n",
            "125/125 [==============================] - 767s 6s/step - loss: 0.5255 - accuracy: 0.7613 - val_loss: 0.5534 - val_accuracy: 0.5426\n",
            "Epoch 3/20\n",
            "125/125 [==============================] - ETA: 0s - loss: 0.4894 - accuracy: 0.7645\n",
            "Epoch 3: val_loss did not improve from 0.28256\n",
            "125/125 [==============================] - 767s 6s/step - loss: 0.4894 - accuracy: 0.7645 - val_loss: 0.6837 - val_accuracy: 0.6279\n",
            "Epoch 4/20\n",
            "125/125 [==============================] - ETA: 0s - loss: 0.4731 - accuracy: 0.7703\n",
            "Epoch 4: val_loss improved from 0.28256 to 0.24979, saving model to tl_model_v1.weights.best.hdf5\n",
            "125/125 [==============================] - 779s 6s/step - loss: 0.4731 - accuracy: 0.7703 - val_loss: 0.2498 - val_accuracy: 0.8992\n",
            "Epoch 5/20\n",
            "125/125 [==============================] - ETA: 0s - loss: 0.4568 - accuracy: 0.7796\n",
            "Epoch 5: val_loss improved from 0.24979 to 0.23564, saving model to tl_model_v1.weights.best.hdf5\n",
            "125/125 [==============================] - 773s 6s/step - loss: 0.4568 - accuracy: 0.7796 - val_loss: 0.2356 - val_accuracy: 0.9535\n",
            "Epoch 6/20\n",
            "125/125 [==============================] - ETA: 0s - loss: 0.4522 - accuracy: 0.7834\n",
            "Epoch 6: val_loss did not improve from 0.23564\n",
            "125/125 [==============================] - 769s 6s/step - loss: 0.4522 - accuracy: 0.7834 - val_loss: 0.8504 - val_accuracy: 0.5039\n",
            "Epoch 7/20\n",
            "125/125 [==============================] - ETA: 0s - loss: 0.4421 - accuracy: 0.7901\n",
            "Epoch 7: val_loss did not improve from 0.23564\n",
            "125/125 [==============================] - 777s 6s/step - loss: 0.4421 - accuracy: 0.7901 - val_loss: 0.7521 - val_accuracy: 0.7054\n",
            "Epoch 8/20\n",
            "125/125 [==============================] - ETA: 0s - loss: 0.4343 - accuracy: 0.7846\n",
            "Epoch 8: val_loss did not improve from 0.23564\n",
            "125/125 [==============================] - 767s 6s/step - loss: 0.4343 - accuracy: 0.7846 - val_loss: 0.9107 - val_accuracy: 0.6357\n",
            "Epoch 9/20\n",
            "125/125 [==============================] - ETA: 0s - loss: 0.4378 - accuracy: 0.7906\n",
            "Epoch 9: val_loss did not improve from 0.23564\n",
            "125/125 [==============================] - 773s 6s/step - loss: 0.4378 - accuracy: 0.7906 - val_loss: 1.3792 - val_accuracy: 0.6279\n",
            "Epoch 10/20\n",
            "125/125 [==============================] - ETA: 0s - loss: 0.4137 - accuracy: 0.7971\n",
            "Epoch 10: val_loss did not improve from 0.23564\n",
            "125/125 [==============================] - 811s 6s/step - loss: 0.4137 - accuracy: 0.7971 - val_loss: 0.7838 - val_accuracy: 0.4806\n",
            "Epoch 11/20\n",
            "125/125 [==============================] - ETA: 0s - loss: 0.3981 - accuracy: 0.8079\n",
            "Epoch 11: val_loss did not improve from 0.23564\n",
            "125/125 [==============================] - 773s 6s/step - loss: 0.3981 - accuracy: 0.8079 - val_loss: 0.4088 - val_accuracy: 0.7984\n",
            "Epoch 12/20\n",
            "125/125 [==============================] - ETA: 0s - loss: 0.3857 - accuracy: 0.8147\n",
            "Epoch 12: val_loss did not improve from 0.23564\n",
            "125/125 [==============================] - 767s 6s/step - loss: 0.3857 - accuracy: 0.8147 - val_loss: 0.4010 - val_accuracy: 0.7984\n",
            "Epoch 13/20\n",
            "125/125 [==============================] - ETA: 0s - loss: 0.3857 - accuracy: 0.8182\n",
            "Epoch 13: val_loss did not improve from 0.23564\n",
            "125/125 [==============================] - 770s 6s/step - loss: 0.3857 - accuracy: 0.8182 - val_loss: 0.3302 - val_accuracy: 0.8140\n",
            "Epoch 14/20\n",
            "125/125 [==============================] - ETA: 0s - loss: 0.3725 - accuracy: 0.8164\n",
            "Epoch 14: val_loss did not improve from 0.23564\n",
            "125/125 [==============================] - 774s 6s/step - loss: 0.3725 - accuracy: 0.8164 - val_loss: 5.1727 - val_accuracy: 0.5039\n",
            "Epoch 15/20\n",
            "125/125 [==============================] - ETA: 0s - loss: 0.3794 - accuracy: 0.8192\n",
            "Epoch 15: val_loss did not improve from 0.23564\n",
            "125/125 [==============================] - 765s 6s/step - loss: 0.3794 - accuracy: 0.8192 - val_loss: 2.2228 - val_accuracy: 0.5736\n"
          ]
        }
      ],
      "source": [
        "model_history = alex.fit(train_generator,\n",
        "                            batch_size=32,\n",
        "                            epochs=10,\n",
        "                            validation_data=test_generator,\n",
        "                            callbacks=[tl_checkpoint_1, early_stop],\n",
        "                            verbose=1)"
      ]
    },
    {
      "cell_type": "code",
      "source": [
        "alex.load_weights('tl_model_v1.weights.best.hdf5')"
      ],
      "metadata": {
        "id": "LzaoHtBXx0jP"
      },
      "execution_count": 30,
      "outputs": []
    },
    {
      "cell_type": "code",
      "execution_count": 31,
      "metadata": {
        "colab": {
          "base_uri": "https://localhost:8080/"
        },
        "id": "P1Iny8aKDgyp",
        "outputId": "47674c92-19c5-4154-d2a8-74157bb240aa"
      },
      "outputs": [
        {
          "output_type": "stream",
          "name": "stdout",
          "text": [
            "5/5 [==============================] - 9s 1s/step - loss: 0.2290 - accuracy: 0.9535\n"
          ]
        }
      ],
      "source": [
        "metrics = alex.evaluate(test_generator)"
      ]
    },
    {
      "cell_type": "code",
      "execution_count": 32,
      "metadata": {
        "colab": {
          "base_uri": "https://localhost:8080/",
          "height": 283
        },
        "id": "7aYHhTj9Djr0",
        "outputId": "5e066c8e-0a40-4e1d-c0f5-901d8e8ed861"
      },
      "outputs": [
        {
          "output_type": "display_data",
          "data": {
            "text/plain": [
              "<Figure size 432x288 with 1 Axes>"
            ],
            "image/png": "[encoded data removed]"
          },
          "metadata": {
            "needs_background": "light"
          }
        }
      ],
      "source": [
        "history = model_history.history\n",
        "\n",
        "# Plot the accuracy and loss of the model over time\n",
        "plt.plot(history['accuracy'])\n",
        "plt.plot(history['loss'])\n",
        "plt.legend(['Accuracy', 'Loss'])\n",
        "plt.xlabel('Epoch')\n",
        "plt.ylabel('Metric')\n",
        "plt.ylim([0.5, 1])\n",
        "plt.show()"
      ]
    },
    {
      "cell_type": "markdown",
      "source": [
        "# **VGG16**"
      ],
      "metadata": {
        "id": "2-fgGUe_ev3G"
      }
    },
    {
      "cell_type": "code",
      "source": [
        "from keras.preprocessing.image import ImageDataGenerator\n",
        "# Set the image size and batch size\n",
        "image_size = (224, 224)\n",
        "batch_size = 64\n",
        "\n",
        "datagen = ImageDataGenerator(\n",
        "    rescale=1./255,\n",
        "    rotation_range=45,\n",
        "    width_shift_range=0.2,\n",
        "    height_shift_range=0.2,\n",
        "    shear_range=0.2,\n",
        "    zoom_range=0.2,\n",
        "    horizontal_flip=True,\n",
        "    vertical_flip=True,\n",
        "    fill_mode='nearest',\n",
        "    preprocessing_function=preprocess_input\n",
        ")\n",
        "\n",
        "# Create a generator for the training data\n",
        "train_generator1 = datagen.flow_from_dataframe(\n",
        "    df_train,\n",
        "    x_col='image',\n",
        "    y_col='label',\n",
        "    target_size=image_size,\n",
        "    batch_size=batch_size,\n",
        "    class_mode='categorical',\n",
        "    shuffle=True,\n",
        "    color_mode = 'rgb'\n",
        ")\n",
        "\n",
        "# Create a generator for the test data\n",
        "test_generator1 = datagen.flow_from_dataframe(\n",
        "    df_test,\n",
        "    x_col='image',\n",
        "    y_col='label',\n",
        "    target_size=image_size,\n",
        "    batch_size=batch_size,\n",
        "    class_mode='categorical',\n",
        "    shuffle=False,\n",
        "    color_mode = 'rgb'\n",
        ")"
      ],
      "metadata": {
        "colab": {
          "base_uri": "https://localhost:8080/"
        },
        "id": "sQATf8HWhwNe",
        "outputId": "2e2d5766-f6ff-4e6f-d34e-794d0006bea3"
      },
      "execution_count": 17,
      "outputs": [
        {
          "output_type": "stream",
          "name": "stdout",
          "text": [
            "Found 3988 validated image filenames belonging to 2 classes.\n",
            "Found 129 validated image filenames belonging to 2 classes.\n"
          ]
        }
      ]
    },
    {
      "cell_type": "code",
      "source": [
        "def create_model(input_shape, n_classes, optimizer='rmsprop', fine_tune=0):\n",
        "    conv_base = VGG16(include_top=False,\n",
        "                     weights='imagenet', \n",
        "                     input_shape=input_shape)\n",
        "    if fine_tune > 0:\n",
        "        for layer in conv_base.layers[:-fine_tune]:\n",
        "            layer.trainable = False\n",
        "    else:\n",
        "        for layer in conv_base.layers:\n",
        "            layer.trainable = False\n",
        "    top_model = conv_base.output\n",
        "    top_model = Flatten(name=\"flatten\")(top_model)\n",
        "    top_model = Dense(4096, activation='relu')(top_model)\n",
        "    top_model = Dense(1072, activation='relu')(top_model)\n",
        "    top_model = Dropout(0.2)(top_model)\n",
        "    output_layer = Dense(n_classes, activation='softmax')(top_model)\n",
        "    model = Model(inputs=conv_base.input, outputs=output_layer)\n",
        "    model.compile(optimizer=optimizer, \n",
        "                  loss='categorical_crossentropy',\n",
        "                  metrics=['accuracy'])\n",
        "    \n",
        "    return model"
      ],
      "metadata": {
        "id": "uWx43bd1hv8q"
      },
      "execution_count": 18,
      "outputs": []
    },
    {
      "cell_type": "code",
      "source": [
        "vgg_model = create_model((224, 224, 3), 2, Adam(learning_rate=0.001), fine_tune=2)"
      ],
      "metadata": {
        "id": "fCfgR-IZhvvr"
      },
      "execution_count": 19,
      "outputs": []
    },
    {
      "cell_type": "code",
      "source": [
        "from keras.callbacks import ModelCheckpoint, EarlyStopping\n",
        "tl_checkpoint_2 = ModelCheckpoint(filepath='tl_model_v2.weights.best.hdf5',\n",
        "                                  save_best_only=True,\n",
        "                                  monitor='val_accuracy', mode='max',\n",
        "                                  verbose=1)\n",
        "\n",
        "# EarlyStopping\n",
        "early_stop_2 = EarlyStopping(monitor='val_loss',\n",
        "                           patience=10,\n",
        "                           restore_best_weights=True,\n",
        "                           mode='min')"
      ],
      "metadata": {
        "id": "_1uhVIFvhvri"
      },
      "execution_count": 20,
      "outputs": []
    },
    {
      "cell_type": "code",
      "source": [
        "vgg_history = vgg_model.fit(train_generator1,\n",
        "                            batch_size=64,\n",
        "                            epochs=10,\n",
        "                            validation_data=test_generator1,\n",
        "                            callbacks=[tl_checkpoint_2, early_stop_2],\n",
        "                            verbose=1)"
      ],
      "metadata": {
        "colab": {
          "base_uri": "https://localhost:8080/"
        },
        "id": "uShKcpQwhvmk",
        "outputId": "24c64375-20a9-4136-9699-cb083f08689d"
      },
      "execution_count": null,
      "outputs": [
        {
          "output_type": "stream",
          "name": "stdout",
          "text": [
            "Epoch 1/10\n",
            "43/63 [===================>..........] - ETA: 14:11 - loss: 3.2439 - accuracy: 0.5643"
          ]
        }
      ]
    },
    {
      "cell_type": "code",
      "source": [
        "vgg_model.load_weights('tl_model_v2.weights.best.hdf5')"
      ],
      "metadata": {
        "id": "36G8qUWUhvgZ"
      },
      "execution_count": null,
      "outputs": []
    },
    {
      "cell_type": "code",
      "source": [
        "metrics = vgg_model.evaluate(test_generator1)"
      ],
      "metadata": {
        "id": "eXeep4mpRisV"
      },
      "execution_count": null,
      "outputs": []
    },
    {
      "cell_type": "code",
      "source": [
        "history = vgg_history.history\n",
        "\n",
        "# Plot the accuracy and loss of the model over time\n",
        "plt.plot(history['accuracy'])\n",
        "plt.plot(history['loss'])\n",
        "plt.legend(['Accuracy', 'Loss'])\n",
        "plt.xlabel('Epoch')\n",
        "plt.ylabel('Metric')\n",
        "plt.ylim([0.5, 1])\n",
        "plt.show()"
      ],
      "metadata": {
        "id": "01ou-7FFRioq"
      },
      "execution_count": null,
      "outputs": []
    },
    {
      "cell_type": "markdown",
      "source": [
        "# **Resnet**"
      ],
      "metadata": {
        "id": "1qmW7LEDlMwj"
      }
    },
    {
      "cell_type": "code",
      "source": [
        "image_size = (224, 224)\n",
        "batch_size = 32\n",
        "\n",
        "# Create an ImageDataGenerator object with data augmentation options for image preprocessing\n",
        "datagen = ImageDataGenerator(\n",
        "    rescale=1./255,\n",
        "    rotation_range=45,\n",
        "    width_shift_range=0.2,\n",
        "    height_shift_range=0.2,\n",
        "    shear_range=0.2,\n",
        "    zoom_range=0.2,\n",
        "    horizontal_flip=True,\n",
        "    vertical_flip=True,\n",
        "    fill_mode='nearest'\n",
        ")\n",
        "\n",
        "\n",
        "# Create a generator for the training data\n",
        "train_generator = datagen.flow_from_dataframe(\n",
        "    df_train,\n",
        "    x_col='image',\n",
        "    y_col='label',\n",
        "    target_size=image_size,\n",
        "    batch_size=batch_size,\n",
        "    class_mode='categorical',\n",
        "    shuffle=True,\n",
        "    color_mode = 'rgb'\n",
        ")\n",
        "\n",
        "# Create a generator for the test data\n",
        "test_generator = datagen.flow_from_dataframe(\n",
        "    df_test,\n",
        "    x_col='image',\n",
        "    y_col='label',\n",
        "    target_size=image_size,\n",
        "    batch_size=batch_size,\n",
        "    class_mode='categorical',\n",
        "    shuffle=False,\n",
        "    color_mode = 'rgb'\n",
        ")"
      ],
      "metadata": {
        "id": "M3mJQNezmolL"
      },
      "execution_count": null,
      "outputs": []
    },
    {
      "cell_type": "code",
      "source": [
        "def resnet(input_shape, n_classes):\n",
        "  \n",
        "  def conv_bn_rl(x, f, k=1, s=1, p='same'):\n",
        "    x = Conv2D(f, k, strides=s, padding=p)(x)\n",
        "    x = BatchNormalization()(x)\n",
        "    x = ReLU()(x)\n",
        "    return x\n",
        "  \n",
        "  \n",
        "  def identity_block(tensor, f):\n",
        "    x = conv_bn_rl(tensor, f)\n",
        "    x = conv_bn_rl(x, f, 3)\n",
        "    x = Conv2D(4*f, 1)(x)\n",
        "    x = BatchNormalization()(x)\n",
        "    \n",
        "    x = Add()([x, tensor])\n",
        "    output = ReLU()(x)\n",
        "    return output\n",
        "  \n",
        "  \n",
        "  def conv_block(tensor, f, s):\n",
        "    x = conv_bn_rl(tensor, f)\n",
        "    x = conv_bn_rl(x, f, 3, s)\n",
        "    x = Conv2D(4*f, 1)(x)\n",
        "    x = BatchNormalization()(x)\n",
        "    \n",
        "    shortcut = Conv2D(4*f, 1, strides=s)(tensor)\n",
        "    shortcut = BatchNormalization()(shortcut)\n",
        "    \n",
        "    x = Add()([x, shortcut])\n",
        "    output = ReLU()(x)\n",
        "    return output\n",
        "  \n",
        "  \n",
        "  def resnet_block(x, f, r, s=2):\n",
        "    x = conv_block(x, f, s)\n",
        "    for _ in range(r-1):\n",
        "      x = identity_block(x, f)\n",
        "    return x\n",
        "    \n",
        "  \n",
        "  input = Input(input_shape)\n",
        "  \n",
        "  x = conv_bn_rl(input, 64, 7, 2)\n",
        "  x = MaxPool2D(3, strides=2, padding='same')(x)\n",
        "  \n",
        "  x = resnet_block(x, 64, 3, 1)\n",
        "  x = resnet_block(x, 128, 4)\n",
        "  x = resnet_block(x, 256, 6)\n",
        "  x = resnet_block(x, 512, 3)\n",
        "  \n",
        "  x = GlobalAvgPool2D()(x)\n",
        "  \n",
        "  output = Dense(n_classes, activation='softmax')(x)\n",
        "  \n",
        "  model = Model(input, output)\n",
        "  return model"
      ],
      "metadata": {
        "id": "OMbOCLKmRilh"
      },
      "execution_count": null,
      "outputs": []
    },
    {
      "cell_type": "code",
      "source": [
        "img_shape = [224,224,3]\n",
        "model = resnet(img_shape,2)"
      ],
      "metadata": {
        "id": "CplGJU03Rihu"
      },
      "execution_count": null,
      "outputs": []
    },
    {
      "cell_type": "code",
      "source": [
        "model.summary()"
      ],
      "metadata": {
        "id": "xhiZZcjonc91"
      },
      "execution_count": null,
      "outputs": []
    },
    {
      "cell_type": "code",
      "source": [
        "model.compile(optimizer='adam', loss='categorical_crossentropy', metrics=['accuracy'])"
      ],
      "metadata": {
        "id": "ZYsreVtBRid7"
      },
      "execution_count": null,
      "outputs": []
    },
    {
      "cell_type": "code",
      "source": [
        "tl_checkpoint_3 = ModelCheckpoint(filepath='tl_model_v3.weights.best.hdf5',\n",
        "                                  save_best_only=True,\n",
        "                                  monitor='val_accuracy', mode='max',\n",
        "                                  verbose=1)\n",
        "\n",
        "# EarlyStopping\n",
        "early_stop_3 = EarlyStopping(monitor='val_loss',\n",
        "                           patience=10,\n",
        "                           restore_best_weights=True,\n",
        "                           mode='min')"
      ],
      "metadata": {
        "id": "vv9ZylvUhvUs"
      },
      "execution_count": null,
      "outputs": []
    },
    {
      "cell_type": "code",
      "source": [
        "model_history  = model.fit(train_generator,\n",
        "                            batch_size=32,\n",
        "                            epochs=10,\n",
        "                            validation_data=test_generator,\n",
        "                            callbacks=[tl_checkpoint_3, early_stop_3],\n",
        "                            verbose=1)"
      ],
      "metadata": {
        "id": "eo9bkG_Mly7b"
      },
      "execution_count": null,
      "outputs": []
    },
    {
      "cell_type": "code",
      "source": [
        "model.load_weights('tl_model_v3.weights.best.hdf5')"
      ],
      "metadata": {
        "id": "3prHrjAbloSd"
      },
      "execution_count": null,
      "outputs": []
    },
    {
      "cell_type": "code",
      "source": [
        "metrics = model.evaluate(test_generator)"
      ],
      "metadata": {
        "id": "ZXAq01noloNG"
      },
      "execution_count": null,
      "outputs": []
    },
    {
      "cell_type": "code",
      "source": [
        "history = model_history.history\n",
        "\n",
        "# Plot the accuracy and loss of the model over time\n",
        "plt.plot(history['accuracy'])\n",
        "plt.plot(history['loss'])\n",
        "plt.legend(['Accuracy', 'Loss'])\n",
        "plt.xlabel('Epoch')\n",
        "plt.ylabel('Metric')\n",
        "plt.ylim([0.5, 1])\n",
        "plt.show()"
      ],
      "metadata": {
        "id": "7qBh6pNIlq18"
      },
      "execution_count": null,
      "outputs": []
    },
    {
      "cell_type": "markdown",
      "source": [
        "# **Mobile** **Net**"
      ],
      "metadata": {
        "id": "_XGCc8RvnKZB"
      }
    },
    {
      "cell_type": "code",
      "source": [
        "def mobilenet(input_shape, n_classes):\n",
        "  \n",
        "  def mobilenet_block(x, f, s=1):\n",
        "    x = DepthwiseConv2D(3, strides=s, padding='same')(x)\n",
        "    x = BatchNormalization()(x)\n",
        "    x = ReLU()(x)\n",
        "    \n",
        "    x = Conv2D(f, 1, strides=1, padding='same')(x)\n",
        "    x = BatchNormalization()(x)\n",
        "    x = ReLU()(x)\n",
        "    return x\n",
        "    \n",
        "    \n",
        "  input = Input(input_shape)\n",
        "\n",
        "  x = Conv2D(32, 3, strides=2, padding='same')(input)\n",
        "  x = BatchNormalization()(x)\n",
        "  x = ReLU()(x)\n",
        "\n",
        "  x = mobilenet_block(x, 64)\n",
        "  x = mobilenet_block(x, 128, 2)\n",
        "  x = mobilenet_block(x, 128)\n",
        "\n",
        "  x = mobilenet_block(x, 256, 2)\n",
        "  x = mobilenet_block(x, 256)\n",
        "\n",
        "  x = mobilenet_block(x, 512, 2)\n",
        "  for _ in range(5):\n",
        "    x = mobilenet_block(x, 512)\n",
        "\n",
        "  x = mobilenet_block(x, 1024, 2)\n",
        "  x = mobilenet_block(x, 1024)\n",
        "  \n",
        "  x = GlobalAvgPool2D()(x)\n",
        "  \n",
        "  output = Dense(n_classes, activation='softmax')(x)\n",
        "  \n",
        "  model = Model(input, output)\n",
        "  return model"
      ],
      "metadata": {
        "id": "uDM0VQhvnP_f"
      },
      "execution_count": null,
      "outputs": []
    },
    {
      "cell_type": "code",
      "source": [
        "img_shape = [224,224,3]\n",
        "model = mobilenet(img_shape,2)"
      ],
      "metadata": {
        "id": "zKmtBbFOnT7N"
      },
      "execution_count": null,
      "outputs": []
    },
    {
      "cell_type": "code",
      "source": [
        "model.summary()"
      ],
      "metadata": {
        "id": "6lPisdUXnaaK"
      },
      "execution_count": null,
      "outputs": []
    },
    {
      "cell_type": "code",
      "source": [
        "model.compile(optimizer='adam', loss='categorical_crossentropy', metrics=['accuracy'])"
      ],
      "metadata": {
        "id": "HJMjnTxJnV-H"
      },
      "execution_count": null,
      "outputs": []
    },
    {
      "cell_type": "code",
      "source": [
        "tl_checkpoint_4 = ModelCheckpoint(filepath='tl_model_v4.weights.best.hdf5',\n",
        "                                  save_best_only=True,\n",
        "                                  monitor='val_accuracy', mode='max',\n",
        "                                  verbose=1)\n",
        "\n",
        "# EarlyStopping\n",
        "early_stop_4 = EarlyStopping(monitor='val_loss',\n",
        "                           patience=10,\n",
        "                           restore_best_weights=True,\n",
        "                           mode='min')"
      ],
      "metadata": {
        "id": "WDokJLGunY09"
      },
      "execution_count": null,
      "outputs": []
    },
    {
      "cell_type": "code",
      "source": [
        "model_history  = model.fit(train_generator,\n",
        "                            batch_size=32,\n",
        "                            epochs=10,\n",
        "                            validation_data=test_generator,\n",
        "                            callbacks=[tl_checkpoint_4, early_stop_4],\n",
        "                            verbose=1)"
      ],
      "metadata": {
        "id": "8CqB7CRMnmlV"
      },
      "execution_count": null,
      "outputs": []
    },
    {
      "cell_type": "code",
      "source": [
        "model.load_weights('tl_model_v4.weights.best.hdf5')"
      ],
      "metadata": {
        "id": "ijZ5sIs6npgk"
      },
      "execution_count": null,
      "outputs": []
    },
    {
      "cell_type": "code",
      "source": [
        "metrics = model.evaluate(test_generator)"
      ],
      "metadata": {
        "id": "e3vtLetnnskF"
      },
      "execution_count": null,
      "outputs": []
    },
    {
      "cell_type": "code",
      "source": [
        "history = model_history.history\n",
        "\n",
        "# Plot the accuracy and loss of the model over time\n",
        "plt.plot(history['accuracy'])\n",
        "plt.plot(history['loss'])\n",
        "plt.legend(['Accuracy', 'Loss'])\n",
        "plt.xlabel('Epoch')\n",
        "plt.ylabel('Metric')\n",
        "plt.ylim([0.5, 1])\n",
        "plt.show()"
      ],
      "metadata": {
        "id": "9ZnxcuYenum_"
      },
      "execution_count": null,
      "outputs": []
    },
    {
      "cell_type": "markdown",
      "source": [
        "# **Dense** **Net**"
      ],
      "metadata": {
        "id": "8HvP-stUn_jV"
      }
    },
    {
      "cell_type": "code",
      "source": [
        "def densenet(img_shape, n_classes, f=32):\n",
        "  repetitions = 6, 12, 24, 16\n",
        "  \n",
        "  def bn_rl_conv(x, f, k=1, s=1, p='same'):\n",
        "    x = BatchNormalization()(x)\n",
        "    x = ReLU()(x)\n",
        "    x = Conv2D(f, k, strides=s, padding=p)(x)\n",
        "    return x\n",
        "  \n",
        "  \n",
        "  def dense_block(tensor, r):\n",
        "    for _ in range(r):\n",
        "      x = bn_rl_conv(tensor, 4*f)\n",
        "      x = bn_rl_conv(x, f, 3)\n",
        "      tensor = Concatenate()([tensor, x])\n",
        "    return tensor\n",
        "  \n",
        "  \n",
        "  def transition_block(x):\n",
        "    x = bn_rl_conv(x, K.int_shape(x)[-1] // 2)\n",
        "    x = AvgPool2D(2, strides=2, padding='same')(x)\n",
        "    return x\n",
        "  \n",
        "  \n",
        "  input = Input(img_shape)\n",
        "  \n",
        "  x = Conv2D(64, 7, strides=2, padding='same')(input)\n",
        "  x = MaxPool2D(3, strides=2, padding='same')(x)\n",
        "  \n",
        "  for r in repetitions:\n",
        "    d = dense_block(x, r)\n",
        "    x = transition_block(d)\n",
        "  \n",
        "  x = GlobalAvgPool2D()(d)\n",
        "  \n",
        "  output = Dense(n_classes, activation='softmax')(x)\n",
        "  \n",
        "  model = Model(input, output)\n",
        "  return model"
      ],
      "metadata": {
        "id": "GFlSCNxon-MK"
      },
      "execution_count": null,
      "outputs": []
    },
    {
      "cell_type": "code",
      "source": [
        "img_shape = [224,224,3]\n",
        "model = densenet(img_shape,2)"
      ],
      "metadata": {
        "id": "90SVfaZ0oIDw"
      },
      "execution_count": null,
      "outputs": []
    },
    {
      "cell_type": "code",
      "source": [
        "model.compile(optimizer='adam', loss='categorical_crossentropy', metrics=['accuracy'])"
      ],
      "metadata": {
        "id": "1VDIO1aOoQ7S"
      },
      "execution_count": null,
      "outputs": []
    },
    {
      "cell_type": "code",
      "source": [
        "tl_checkpoint_5 = ModelCheckpoint(filepath='tl_model_v5.weights.best.hdf5',\n",
        "                                  save_best_only=True,\n",
        "                                  monitor='val_accuracy', mode='max',\n",
        "                                  verbose=1)\n",
        "\n",
        "# EarlyStopping\n",
        "early_stop_5 = EarlyStopping(monitor='val_loss',\n",
        "                           patience=10,\n",
        "                           restore_best_weights=True,\n",
        "                           mode='min')"
      ],
      "metadata": {
        "id": "bpz3da9yoTC9"
      },
      "execution_count": null,
      "outputs": []
    },
    {
      "cell_type": "code",
      "source": [
        "model_history  = model.fit(train_generator,\n",
        "                            batch_size=32,\n",
        "                            epochs=10,\n",
        "                            validation_data=test_generator,\n",
        "                            callbacks=[tl_checkpoint_5, early_stop_5],\n",
        "                            verbose=1)"
      ],
      "metadata": {
        "id": "ZKvKoRWnoY5e"
      },
      "execution_count": null,
      "outputs": []
    },
    {
      "cell_type": "code",
      "source": [
        "model.load_weights('tl_model_v5.weights.best.hdf5')"
      ],
      "metadata": {
        "id": "DzDC674uoY0N"
      },
      "execution_count": null,
      "outputs": []
    },
    {
      "cell_type": "code",
      "source": [
        "metrics = model.evaluate(test_generator)"
      ],
      "metadata": {
        "id": "X6OtPKztoYv-"
      },
      "execution_count": null,
      "outputs": []
    },
    {
      "cell_type": "code",
      "source": [
        "history = model_history.history\n",
        "\n",
        "# Plot the accuracy and loss of the model over time\n",
        "plt.plot(history['accuracy'])\n",
        "plt.plot(history['loss'])\n",
        "plt.legend(['Accuracy', 'Loss'])\n",
        "plt.xlabel('Epoch')\n",
        "plt.ylabel('Metric')\n",
        "plt.ylim([0.5, 1])\n",
        "plt.show()"
      ],
      "metadata": {
        "id": "re7OWeK8oYq_"
      },
      "execution_count": null,
      "outputs": []
    },
    {
      "cell_type": "markdown",
      "source": [
        "# **Shuffle** **Net**"
      ],
      "metadata": {
        "id": "Xtfe-GcZos6p"
      }
    },
    {
      "cell_type": "code",
      "source": [
        "def shufflenet(input_shape, n_classes, g=8):\n",
        "  channels = 384, 769, 1536\n",
        "  repetitions = 3, 7, 3\n",
        "  \n",
        "  def ch_shuffle(x, g):\n",
        "    _, w, h, ch = K.int_shape(x)\n",
        "    ch_g = ch // g\n",
        "    \n",
        "    def shuffle_op(x):\n",
        "      x = K.reshape(x, [-1, w, h, ch_g, g])\n",
        "      x = K.permute_dimensions(x, [0, 1, 2, 4, 3])\n",
        "      x = K.reshape(x, [-1, w, h, ch])\n",
        "      return x\n",
        "    \n",
        "    x = Lambda(shuffle_op)(x)\n",
        "    return x\n",
        "\n",
        "\n",
        "  def gconv(tensor, ch, g):\n",
        "    _, _, _, in_ch = K.int_shape(tensor)\n",
        "    ch_g = in_ch // g\n",
        "    out_ch = ch // g\n",
        "    group = []\n",
        "    for i in range(g):\n",
        "      x = Lambda(lambda x: x[:, :, :, i*ch_g: (i+1)*ch_g])(tensor)\n",
        "      x = Conv2D(out_ch, 1)(x)\n",
        "      group.append(x)\n",
        "    \n",
        "    x = Concatenate()(group)\n",
        "    return x\n",
        "  \n",
        "  \n",
        "  def shufflenet_block(tensor, ch, s, g):\n",
        "    x = gconv(tensor, ch // 4, g)\n",
        "    x = BatchNormalization()(x)\n",
        "    x = ReLU()(x)\n",
        "    x = ch_shuffle(x, g)\n",
        "    x = DepthwiseConv2D(3, strides=s, padding='same')(x)\n",
        "    x = BatchNormalization()(x)\n",
        "    x = gconv(x, ch if s==1 else ch-K.int_shape(tensor)[-1], g)\n",
        "    x = BatchNormalization()(x)\n",
        "    \n",
        "    if s == 1:\n",
        "      x = Add()([tensor, x])\n",
        "    else:\n",
        "      avg = AvgPool2D(3, strides=2, padding='same')(tensor)\n",
        "      x = Concatenate()([avg, x])\n",
        "\n",
        "\n",
        "    output = ReLU()(x)\n",
        "    return output\n",
        "  \n",
        "  \n",
        "  def stage(x, ch, r, g):\n",
        "    x = shufflenet_block(x, ch, 2, g)\n",
        "    \n",
        "    for i in range(r):\n",
        "      x = shufflenet_block(x, ch, 1, g)\n",
        "      \n",
        "    return x\n",
        "  \n",
        "  input = Input(input_shape)\n",
        "  \n",
        "  x = Conv2D(24, 3, strides=2, padding='same')(input)\n",
        "  x = BatchNormalization()(x)\n",
        "  x = ReLU()(x)\n",
        "  x = MaxPool2D(3, strides=2, padding='same')(x)\n",
        "  \n",
        "  for ch, r in zip(channels, repetitions):\n",
        "    x = stage(x, ch, r, g)\n",
        "    \n",
        "  x = GlobalAvgPool2D()(x)\n",
        "  output = Dense(n_classes, activation='softmax')(x)\n",
        "  \n",
        "  model = Model(input, output)\n",
        "  return model"
      ],
      "metadata": {
        "id": "xVRxSfQlovcP"
      },
      "execution_count": null,
      "outputs": []
    },
    {
      "cell_type": "code",
      "source": [
        "img_shape = [224,224,3]\n",
        "model = shufflenet(img_shape,2)"
      ],
      "metadata": {
        "id": "9BwyE1jxovt2"
      },
      "execution_count": null,
      "outputs": []
    },
    {
      "cell_type": "code",
      "source": [
        "model.summary()"
      ],
      "metadata": {
        "id": "GmdOWSeeovn8"
      },
      "execution_count": null,
      "outputs": []
    },
    {
      "cell_type": "code",
      "source": [
        "model.compile(optimizer='adam', loss='categorical_crossentropy', metrics=['accuracy'])"
      ],
      "metadata": {
        "id": "6dbLCWZjovhK"
      },
      "execution_count": null,
      "outputs": []
    },
    {
      "cell_type": "code",
      "source": [
        "tl_checkpoint_6 = ModelCheckpoint(filepath='tl_model_v6.weights.best.hdf5',\n",
        "                                  save_best_only=True,\n",
        "                                  monitor='val_accuracy', mode='max',\n",
        "                                  verbose=1)\n",
        "\n",
        "# EarlyStopping\n",
        "early_stop_6 = EarlyStopping(monitor='val_loss',\n",
        "                           patience=10,\n",
        "                           restore_best_weights=True,\n",
        "                           mode='min')"
      ],
      "metadata": {
        "id": "M6CVJVleo6EI"
      },
      "execution_count": null,
      "outputs": []
    },
    {
      "cell_type": "code",
      "source": [
        "model_history  = model.fit(train_generator,\n",
        "                            batch_size=32,\n",
        "                            epochs=10,\n",
        "                            validation_data=test_generator,\n",
        "                            callbacks=[tl_checkpoint_6, early_stop_6],\n",
        "                            verbose=1)"
      ],
      "metadata": {
        "id": "aY8akZ8TpAR3"
      },
      "execution_count": null,
      "outputs": []
    },
    {
      "cell_type": "code",
      "source": [
        "model.load_weights('tl_model_v6.weights.best.hdf5')"
      ],
      "metadata": {
        "id": "mgNm9c_5pANB"
      },
      "execution_count": null,
      "outputs": []
    },
    {
      "cell_type": "code",
      "source": [
        "metrics = model.evaluate(test_generator)"
      ],
      "metadata": {
        "id": "JE2PMoogpAJD"
      },
      "execution_count": null,
      "outputs": []
    },
    {
      "cell_type": "code",
      "source": [
        "history = model_history.history\n",
        "\n",
        "# Plot the accuracy and loss of the model over time\n",
        "plt.plot(history['accuracy'])\n",
        "plt.plot(history['loss'])\n",
        "plt.legend(['Accuracy', 'Loss'])\n",
        "plt.xlabel('Epoch')\n",
        "plt.ylabel('Metric')\n",
        "plt.ylim([0.5, 1])\n",
        "plt.show()"
      ],
      "metadata": {
        "id": "JwYitMPtpAAt"
      },
      "execution_count": null,
      "outputs": []
    }
  ],
  "metadata": {
    "colab": {
      "provenance": [],
      "mount_file_id": "1xXKWvlqz6CyZahn87V8FabV2QR0hPhPW",
      "authorship_tag": "ABX9TyOVNhGmZEWDAKoh8tA8JfwP",
      "include_colab_link": true
    },
    "kernelspec": {
      "display_name": "Python 3",
      "name": "python3"
    },
    "language_info": {
      "name": "python"
    }
  },
  "nbformat": 4,
  "nbformat_minor": 0
}